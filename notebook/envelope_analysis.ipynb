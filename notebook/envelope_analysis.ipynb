{
 "cells": [
  {
   "attachments": {},
   "cell_type": "markdown",
   "metadata": {},
   "source": [
    "## OCHRE Envelope Analysis "
   ]
  },
  {
   "cell_type": "code",
   "execution_count": 6,
   "metadata": {},
   "outputs": [],
   "source": [
    "# Set up\n",
    "import os\n",
    "import datetime as dt\n",
    "import pandas as pd\n",
    "\n",
    "from ochre import Dwelling, Analysis, CreateFigures\n",
    "from ochre.FileIO import default_input_path\n",
    "\n",
    "pd.set_option('display.precision', 3)      # precision in print statements\n",
    "pd.set_option('expand_frame_repr', False)  # Keeps results on 1 line\n",
    "pd.set_option('display.max_rows', 30)      # Shows up to 30 rows of data\n",
    "# pd.set_option('max_columns', None)       # Prints all columns\n",
    "\n",
    "simulation_name = 'OCHRE Test House'\n",
    "\n",
    "weather_path = os.path.join(os.path.expanduser('~'), 'NREL', 'Team OCHRE - Documents', 'General', 'Weather',\n",
    "                            'BuildStock_TMY3_FIPS')\n",
    "teams_path = os.path.join(os.path.expanduser('~'), 'NREL', 'Team OCHRE - Documents', 'Validation', 'Multifamily',\n",
    "                          'national_100', 'up00', 'bldg0000001')\n",
    "\n",
    "dwelling_args = {\n",
    "    # Timing parameters\n",
    "    'start_time': dt.datetime(2018, 1, 1, 0, 0),  # year, month, day, hour, minute\n",
    "    'time_res': dt.timedelta(minutes=60),         # time resolution of the simulation\n",
    "    'duration': dt.timedelta(days=1),             # duration of the simulation\n",
    "\n",
    "    # Input parameters - Sample building (uses HPXML file and time series schedule file)\n",
    "    'properties_file': os.path.join(teams_path, 'in.xml'),\n",
    "    'schedule_input_file': os.path.join(teams_path, 'schedules.csv'),\n",
    "    'weather_path': weather_path,\n",
    "\n",
    "    # Output parameters\n",
    "    'save_results': False,\n",
    "}"
   ]
  },
  {
   "cell_type": "code",
   "execution_count": 7,
   "metadata": {},
   "outputs": [],
   "source": [
    "# create dwelling and linearize radiation/infiltration\n",
    "linear_args = {\n",
    "    **dwelling_args,\n",
    "    'time_res': dt.timedelta(minutes=60),\n",
    "    'Envelope': {\n",
    "        # 'save_results': True,  # Saves detailed envelope inputs and states\n",
    "        'linearize_infiltration': True,\n",
    "        'external_radiation_method': 'linear',\n",
    "        'internal_radiation_method': 'linear',\n",
    "    },\n",
    "}\n",
    "\n",
    "house = Dwelling(name=simulation_name, **linear_args)"
   ]
  },
  {
   "cell_type": "code",
   "execution_count": 74,
   "metadata": {},
   "outputs": [
    {
     "name": "stderr",
     "output_type": "stream",
     "text": [
      "c:\\Users\\mblonsky\\Miniconda3\\envs\\ochre_dev\\lib\\site-packages\\scipy\\signal\\_filter_design.py:1709: BadCoefficients: Badly conditioned filter coefficients (numerator): the results may be meaningless\n",
      "  warnings.warn(\"Badly conditioned filter coefficients (numerator): the \"\n"
     ]
    },
    {
     "data": {
      "text/html": [
       "<div>\n",
       "<style scoped>\n",
       "    .dataframe tbody tr th:only-of-type {\n",
       "        vertical-align: middle;\n",
       "    }\n",
       "\n",
       "    .dataframe tbody tr th {\n",
       "        vertical-align: top;\n",
       "    }\n",
       "\n",
       "    .dataframe thead th {\n",
       "        text-align: right;\n",
       "    }\n",
       "</style>\n",
       "<table border=\"1\" class=\"dataframe\">\n",
       "  <thead>\n",
       "    <tr style=\"text-align: right;\">\n",
       "      <th></th>\n",
       "      <th>frequency</th>\n",
       "      <th>magnitude</th>\n",
       "      <th>Minutes</th>\n",
       "      <th>C (kJ/K)</th>\n",
       "    </tr>\n",
       "  </thead>\n",
       "  <tbody>\n",
       "    <tr>\n",
       "      <th>0</th>\n",
       "      <td>5.556e-04</td>\n",
       "      <td>9.908e-04</td>\n",
       "      <td>30.0</td>\n",
       "      <td>3633.564</td>\n",
       "    </tr>\n",
       "    <tr>\n",
       "      <th>1</th>\n",
       "      <td>2.778e-04</td>\n",
       "      <td>1.724e-03</td>\n",
       "      <td>60.0</td>\n",
       "      <td>2088.216</td>\n",
       "    </tr>\n",
       "    <tr>\n",
       "      <th>2</th>\n",
       "      <td>1.852e-04</td>\n",
       "      <td>2.298e-03</td>\n",
       "      <td>90.0</td>\n",
       "      <td>1566.791</td>\n",
       "    </tr>\n",
       "    <tr>\n",
       "      <th>3</th>\n",
       "      <td>1.389e-04</td>\n",
       "      <td>2.765e-03</td>\n",
       "      <td>120.0</td>\n",
       "      <td>1302.052</td>\n",
       "    </tr>\n",
       "    <tr>\n",
       "      <th>4</th>\n",
       "      <td>1.111e-04</td>\n",
       "      <td>3.161e-03</td>\n",
       "      <td>150.0</td>\n",
       "      <td>1138.728</td>\n",
       "    </tr>\n",
       "    <tr>\n",
       "      <th>5</th>\n",
       "      <td>9.259e-05</td>\n",
       "      <td>3.514e-03</td>\n",
       "      <td>180.0</td>\n",
       "      <td>1024.368</td>\n",
       "    </tr>\n",
       "    <tr>\n",
       "      <th>6</th>\n",
       "      <td>7.937e-05</td>\n",
       "      <td>3.842e-03</td>\n",
       "      <td>210.0</td>\n",
       "      <td>937.084</td>\n",
       "    </tr>\n",
       "  </tbody>\n",
       "</table>\n",
       "</div>"
      ],
      "text/plain": [
       "   frequency  magnitude  Minutes  C (kJ/K)\n",
       "0  5.556e-04  9.908e-04     30.0  3633.564\n",
       "1  2.778e-04  1.724e-03     60.0  2088.216\n",
       "2  1.852e-04  2.298e-03     90.0  1566.791\n",
       "3  1.389e-04  2.765e-03    120.0  1302.052\n",
       "4  1.111e-04  3.161e-03    150.0  1138.728\n",
       "5  9.259e-05  3.514e-03    180.0  1024.368\n",
       "6  7.937e-05  3.842e-03    210.0   937.084"
      ]
     },
     "execution_count": 74,
     "metadata": {},
     "output_type": "execute_result"
    },
    {
     "data": {
      "image/png": "[encoded data removed]",
      "text/plain": [
       "<Figure size 432x288 with 1 Axes>"
      ]
     },
     "metadata": {
      "needs_background": "light"
     },
     "output_type": "display_data"
    }
   ],
   "source": [
    "import scipy.signal\n",
    "import numpy as np\n",
    "\n",
    "env = house.envelope\n",
    "\n",
    "# see https://docs.scipy.org/doc/scipy/reference/generated/scipy.signal.bode.html\n",
    "model = scipy.signal.lti(env.A_c, env.B_c[:, -1:], env.C, env.D[:, -1:])\n",
    "w = [1 / m / 60 for m in range(30, 240, 30)]  # 30 to 240 minute frequencies\n",
    "w, mag, phase = model.bode(w)\n",
    "\n",
    "CreateFigures.plt.plot(w, mag)\n",
    "\n",
    "df = pd.DataFrame((w, mag), index=['frequency', 'magnitude']).T\n",
    "df['Minutes'] = 1 / df['frequency'] / 60\n",
    "df['magnitude'] = 10 ** (df['magnitude'] / 20)\n",
    "df['C (kJ/K)'] = 1 / df['magnitude'] * 3600 / 1000  # kJ / K\n",
    "df\n"
   ]
  },
  {
   "cell_type": "code",
   "execution_count": 75,
   "metadata": {},
   "outputs": [
    {
     "name": "stderr",
     "output_type": "stream",
     "text": [
      "c:\\Users\\mblonsky\\Miniconda3\\envs\\ochre_dev\\lib\\site-packages\\scipy\\signal\\_filter_design.py:1709: BadCoefficients: Badly conditioned filter coefficients (numerator): the results may be meaningless\n",
      "  warnings.warn(\"Badly conditioned filter coefficients (numerator): the \"\n"
     ]
    },
    {
     "data": {
      "text/html": [
       "<div>\n",
       "<style scoped>\n",
       "    .dataframe tbody tr th:only-of-type {\n",
       "        vertical-align: middle;\n",
       "    }\n",
       "\n",
       "    .dataframe tbody tr th {\n",
       "        vertical-align: top;\n",
       "    }\n",
       "\n",
       "    .dataframe thead th {\n",
       "        text-align: right;\n",
       "    }\n",
       "</style>\n",
       "<table border=\"1\" class=\"dataframe\">\n",
       "  <thead>\n",
       "    <tr style=\"text-align: right;\">\n",
       "      <th></th>\n",
       "      <th>frequency</th>\n",
       "      <th>magnitude</th>\n",
       "      <th>Minutes</th>\n",
       "      <th>RC (hours)</th>\n",
       "    </tr>\n",
       "  </thead>\n",
       "  <tbody>\n",
       "    <tr>\n",
       "      <th>0</th>\n",
       "      <td>5.556e-04</td>\n",
       "      <td>0.029</td>\n",
       "      <td>30.0</td>\n",
       "      <td>34.836</td>\n",
       "    </tr>\n",
       "    <tr>\n",
       "      <th>1</th>\n",
       "      <td>2.778e-04</td>\n",
       "      <td>0.055</td>\n",
       "      <td>60.0</td>\n",
       "      <td>18.297</td>\n",
       "    </tr>\n",
       "    <tr>\n",
       "      <th>2</th>\n",
       "      <td>1.852e-04</td>\n",
       "      <td>0.081</td>\n",
       "      <td>90.0</td>\n",
       "      <td>12.356</td>\n",
       "    </tr>\n",
       "    <tr>\n",
       "      <th>3</th>\n",
       "      <td>1.389e-04</td>\n",
       "      <td>0.106</td>\n",
       "      <td>120.0</td>\n",
       "      <td>9.399</td>\n",
       "    </tr>\n",
       "    <tr>\n",
       "      <th>4</th>\n",
       "      <td>1.111e-04</td>\n",
       "      <td>0.130</td>\n",
       "      <td>150.0</td>\n",
       "      <td>7.665</td>\n",
       "    </tr>\n",
       "    <tr>\n",
       "      <th>5</th>\n",
       "      <td>9.259e-05</td>\n",
       "      <td>0.153</td>\n",
       "      <td>180.0</td>\n",
       "      <td>6.525</td>\n",
       "    </tr>\n",
       "    <tr>\n",
       "      <th>6</th>\n",
       "      <td>7.937e-05</td>\n",
       "      <td>0.175</td>\n",
       "      <td>210.0</td>\n",
       "      <td>5.709</td>\n",
       "    </tr>\n",
       "  </tbody>\n",
       "</table>\n",
       "</div>"
      ],
      "text/plain": [
       "   frequency  magnitude  Minutes  RC (hours)\n",
       "0  5.556e-04      0.029     30.0      34.836\n",
       "1  2.778e-04      0.055     60.0      18.297\n",
       "2  1.852e-04      0.081     90.0      12.356\n",
       "3  1.389e-04      0.106    120.0       9.399\n",
       "4  1.111e-04      0.130    150.0       7.665\n",
       "5  9.259e-05      0.153    180.0       6.525\n",
       "6  7.937e-05      0.175    210.0       5.709"
      ]
     },
     "execution_count": 75,
     "metadata": {},
     "output_type": "execute_result"
    }
   ],
   "source": [
    "# see https://docs.scipy.org/doc/scipy/reference/generated/scipy.signal.bode.html\n",
    "model = scipy.signal.lti(env.A_c, env.B_c[:, :1], env.C, env.D[:, :1])\n",
    "w = [1 / m / 60 for m in range(30, 240, 30)]  # 30 to 240 minute frequencies\n",
    "w, mag, phase = model.bode(w)\n",
    "\n",
    "# CreateFigures.plt.plot(w, mag)\n",
    "\n",
    "df = pd.DataFrame((w, mag), index=['frequency', 'magnitude']).T\n",
    "df['Minutes'] = 1 / df['frequency'] / 60\n",
    "df['magnitude'] = 10 ** (df['magnitude'] / 20)\n",
    "df['RC (hours)'] = 1 / df['magnitude']\n",
    "df\n"
   ]
  },
  {
   "cell_type": "code",
   "execution_count": 56,
   "metadata": {},
   "outputs": [
    {
     "data": {
      "text/plain": [
       "0.6079141435798809"
      ]
     },
     "execution_count": 56,
     "metadata": {},
     "output_type": "execute_result"
    }
   ],
   "source": [
    "env.A[-1, -1]"
   ]
  },
  {
   "cell_type": "code",
   "execution_count": 57,
   "metadata": {},
   "outputs": [
    {
     "data": {
      "text/plain": [
       "['T_EW1', 'T_EW2', 'T_EW3', 'T_EW4', 'T_IW1', 'T_IW2', 'T_IM1', 'T_LIV']"
      ]
     },
     "execution_count": 57,
     "metadata": {},
     "output_type": "execute_result"
    }
   ],
   "source": [
    "env.state_names"
   ]
  },
  {
   "cell_type": "code",
   "execution_count": 58,
   "metadata": {},
   "outputs": [
    {
     "data": {
      "text/plain": [
       "['T_EXT', 'H_EW1', 'H_IM1', 'H_LIV']"
      ]
     },
     "execution_count": 58,
     "metadata": {},
     "output_type": "execute_result"
    }
   ],
   "source": [
    "env.input_names"
   ]
  },
  {
   "cell_type": "code",
   "execution_count": 59,
   "metadata": {},
   "outputs": [
    {
     "data": {
      "text/plain": [
       "['T_LIV']"
      ]
     },
     "execution_count": 59,
     "metadata": {},
     "output_type": "execute_result"
    }
   ],
   "source": [
    "env.output_names"
   ]
  },
  {
   "cell_type": "code",
   "execution_count": 60,
   "metadata": {},
   "outputs": [
    {
     "data": {
      "text/plain": [
       "array([[5.51429257e-01, 8.55074962e-03, 3.84998670e-06, 8.53163800e-06],\n",
       "       [2.78755597e-01, 4.25255199e-03, 1.84929537e-05, 4.02360759e-05],\n",
       "       [8.96023636e-02, 1.19428836e-03, 5.33862401e-05, 1.14017021e-04],\n",
       "       [6.36390265e-02, 3.97670541e-04, 2.08399073e-04, 4.28262203e-04],\n",
       "       [4.82457124e-02, 1.45132879e-05, 2.46448466e-04, 5.10115530e-04],\n",
       "       [3.98759358e-02, 8.59564919e-06, 1.80707430e-04, 3.81977943e-04],\n",
       "       [1.65090240e-02, 3.84998670e-06, 1.67693120e-03, 9.19417488e-05],\n",
       "       [5.45570500e-02, 8.53163800e-06, 9.19417488e-05, 1.68849860e-03]])"
      ]
     },
     "execution_count": 60,
     "metadata": {},
     "output_type": "execute_result"
    }
   ],
   "source": [
    "env.B"
   ]
  },
  {
   "cell_type": "code",
   "execution_count": 70,
   "metadata": {},
   "outputs": [
    {
     "data": {
      "text/plain": [
       "0.05455705000931139"
      ]
     },
     "execution_count": 70,
     "metadata": {},
     "output_type": "execute_result"
    }
   ],
   "source": [
    "e = env.B[-1, 0]\n",
    "e"
   ]
  },
  {
   "cell_type": "code",
   "execution_count": 64,
   "metadata": {},
   "outputs": [
    {
     "data": {
      "text/plain": [
       "0.0016884985955297287"
      ]
     },
     "execution_count": 64,
     "metadata": {},
     "output_type": "execute_result"
    }
   ],
   "source": [
    "b = env.B[-1, -1]\n",
    "1 / b * 3600 / 1000  # kJ / K\n",
    "b"
   ]
  },
  {
   "cell_type": "code",
   "execution_count": 63,
   "metadata": {},
   "outputs": [
    {
     "data": {
      "text/plain": [
       "1640.4059006778048"
      ]
     },
     "execution_count": 63,
     "metadata": {},
     "output_type": "execute_result"
    }
   ],
   "source": [
    "env.zones['Indoor'].capacitance"
   ]
  },
  {
   "cell_type": "code",
   "execution_count": null,
   "metadata": {},
   "outputs": [],
   "source": []
  }
 ],
 "metadata": {
  "kernelspec": {
   "display_name": "ochre_dev",
   "language": "python",
   "name": "python3"
  },
  "language_info": {
   "codemirror_mode": {
    "name": "ipython",
    "version": 3
   },
   "file_extension": ".py",
   "mimetype": "text/x-python",
   "name": "python",
   "nbconvert_exporter": "python",
   "pygments_lexer": "ipython3",
   "version": "3.10.4"
  },
  "orig_nbformat": 4,
  "vscode": {
   "interpreter": {
    "hash": "38511c319a6abad618a0f5b1e1754d185267d9d16f724d65987013cf31e529bb"
   }
  }
 },
 "nbformat": 4,
 "nbformat_minor": 2
}
