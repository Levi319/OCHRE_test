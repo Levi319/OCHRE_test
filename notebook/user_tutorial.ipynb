{
 "cells": [
  {
   "attachments": {},
   "cell_type": "markdown",
   "metadata": {},
   "source": [
    "# OCHRE User Tutorial\n",
    "\n",
    "OCHRE&trade; is a Python-based energy modeling tool designed to model end-use\n",
    "loads and distributed energy resources in residential buildings. It can model\n",
    "flexible devices---including HVAC equipment, water heaters, electric vehicles,\n",
    "solar PV, and batteries---and the thermal and electrical interactions between\n",
    "them. OCHRE has been used to generate diverse and high-resolution load\n",
    "profiles, examine the impacts of advanced control strategies on energy costs\n",
    "and occupant comfort, and assess grid reliability and resilience through\n",
    "building-to-grid co-simulation.\n",
    "\n",
    "This tutorial covers the basics of how to install and run OCHRE, and provides\n",
    "some examples for various use cases. It can be downloaded online\n",
    "[here](https://github.com/NREL/OCHRE/blob/main/notebook/user_tutorial.ipynb).\n",
    "\n",
    "More information about OCHRE can be found in [our\n",
    "documentation](https://ochre-nrel.readthedocs.io/), on [NREL's\n",
    "website](https://www.nrel.gov/grid/ochre.html), and from the [Powered By\n",
    "OCHRE](https://www.youtube.com/watch?v=B5elLVtYDbI) webinar recording.\n",
    "\n",
    "If you use OCHRE for your research or other projects, please fill out our\n",
    "[user survey](https://forms.office.com/g/U4xYhaWEvs).\n",
    "\n",
    "* [Set up](#setup)\n",
    "  * [Running online](#online)\n",
    "  * [Local installation](#install)\n",
    "  * [Getting input files](#inputs)\n",
    "* [Simulating a dwelling](#dwelling)\n",
    "  * [Simulating a sample dwelling](#sample)\n",
    "  * [Adding equipment to a dwelling](#add-equipment)\n",
    "  * [Downloading ResStock Models](#download)\n",
    "  * [Running through the command line](#cli)\n",
    "* [Simulating a single piece of equipment](#equipment)\n",
    "  * [Electric vehicle](#ev)\n",
    "  * [Water heater](#water_heater)\n",
    "* [Simulating a fleet](#fleet)\n",
    "  * [EV fleet](#ev-fleet)\n",
    "  * [Multiple houses](#house-fleet)\n",
    "* [Simulating with external controllers](#control)\n",
    "  * [HVAC setpoint control](#hvac-control)\n",
    "  * [EV managed charging](#ev-control)\n",
    "  * [HPWH CTA-2045 control](#wh-control)\n"
   ]
  },
  {
   "cell_type": "markdown",
   "metadata": {},
   "source": [
    "## <a name=\"setup\"></a>Set up\n"
   ]
  },
  {
   "cell_type": "markdown",
   "metadata": {},
   "source": [
    "### <a name=\"online\"></a>Running online\n",
    "\n",
    "OCHRE can be run through an interactive Jupyter notebook. You may need to run\n",
    "the code below and restart the notebook to install OCHRE.\n"
   ]
  },
  {
   "cell_type": "code",
   "execution_count": null,
   "metadata": {},
   "outputs": [],
   "source": [
    "# %pip install ochre-nrel\n",
    "# installing from a development branch for v0.9\n",
    "%pip uninstall -y ochre-nrel\n",
    "%pip install git+https://github.com/NREL/OCHRE@docs-and-tutorial"
   ]
  },
  {
   "attachments": {},
   "cell_type": "markdown",
   "metadata": {},
   "source": [
    "### <a name=\"install\"></a>Local installation\n",
    "\n",
    "The latest release of OCHRE can be installed using `pip` from the command line with:\n",
    "\n",
    "```\n",
    "pip install ochre-nrel\n",
    "```\n",
    "\n",
    "Advanced users and developers can also install a specific branch from Github, for example:\n",
    "\n",
    "```\n",
    "pip install git+https://github.com/NREL/OCHRE@dev\n",
    "```\n",
    "\n",
    "Note that OCHRE currently requires Python version >=3.9 and <3.12."
   ]
  },
  {
   "attachments": {},
   "cell_type": "markdown",
   "metadata": {},
   "source": [
    "### <a name=\"inputs\"></a>Getting input files\n",
    "\n",
    "OCHRE `Dwelling` models typically require 3 inputs files:\n",
    "* An HPXML file with building and equipment properties (.xml)\n",
    "* An HPXML schedule file with occupant usage profiles (.csv)\n",
    "* A weather file (.epw, or .csv with NSRDB format)\n",
    "\n",
    "There are [multiple\n",
    "ways](https://ochre-nrel.readthedocs.io/en/latest/InputsAndArguments.html#getting-input-files)\n",
    "to generate or download OCHRE input files. An example below shows how to\n",
    "[download building models](#download) from the ResStock dataset.\n"
   ]
  },
  {
   "attachments": {},
   "cell_type": "markdown",
   "metadata": {},
   "source": [
    "## <a name=\"dwelling\"></a>Simulating a dwelling\n",
    "\n",
    "OCHRE is most commonly used to model an entire residential dwelling (i.e., a\n",
    "house, apartment, or other housing unit) with many pieces of energy-consuming\n",
    "equipment. Using information about the building, equipment, occupants, and\n",
    "weather, it will generate a load profile and other relevant results. This\n",
    "tutorial shows examples on running a sample dwelling, adding additional\n",
    "equipment, and downloading a building model from ResStock Datasets.\n",
    "\n"
   ]
  },
  {
   "cell_type": "markdown",
   "metadata": {},
   "source": [
    "### <a name=\"sample\"></a>Simulating a sample dwelling\n",
    "\n",
    "The following code will initialize a Dwelling using [sample\n",
    "files](https://github.com/NREL/OCHRE/tree/main/ochre/defaults/Input%20Files)\n",
    "from the [ResStock 2024.2 dataset](https://resstock.nrel.gov/datasets) and\n",
    "from the [EnergyPlus website](https://energyplus.net/weather) (for weather\n",
    "data). In addition to specifying input files, OCHRE requires a simulation\n",
    "start time, time resolution, and duration.\n",
    "\n",
    "\n"
   ]
  },
  {
   "cell_type": "code",
   "execution_count": null,
   "metadata": {},
   "outputs": [],
   "source": [
    "import os\n",
    "import datetime as dt\n",
    "\n",
    "from ochre import Dwelling\n",
    "from ochre.utils import default_input_path  # for using sample files\n",
    "\n",
    "dwelling_args = {\n",
    "    # Timing parameters\n",
    "    \"start_time\": dt.datetime(2018, 1, 1, 0, 0),  # (year, month, day, hour, minute)\n",
    "    \"time_res\": dt.timedelta(minutes=10),         # time resolution of the simulation\n",
    "    \"duration\": dt.timedelta(days=3),             # duration of the simulation\n",
    "\n",
    "    # Input files\n",
    "    \"hpxml_file\": os.path.join(default_input_path, \"Input Files\", \"bldg0112631-up11.xml\"),\n",
    "    \"hpxml_schedule_file\": os.path.join(default_input_path, \"Input Files\", \"bldg0112631_schedule.csv\"),\n",
    "    \"weather_file\": os.path.join(default_input_path, \"Weather\", \"G0800310.epw\"),\n",
    "}\n",
    "\n",
    "# Create Dwelling model\n",
    "dwelling = Dwelling(**dwelling_args)"
   ]
  },
  {
   "cell_type": "markdown",
   "metadata": {},
   "source": [
    "The following code will simulate the dwelling. By default, it will return the\n",
    "following results and save them to files:\n",
    "\n",
    "- `df`: a Pandas DataFrame of time series results\n",
    "- `metrics`: a dictionary of energy metrics\n",
    "- `hourly`: a Pandas DataFrame of time series results with 1 hour resolution"
   ]
  },
  {
   "cell_type": "code",
   "execution_count": null,
   "metadata": {},
   "outputs": [],
   "source": [
    "df, metrics, hourly = dwelling.simulate()"
   ]
  },
  {
   "cell_type": "markdown",
   "metadata": {},
   "source": [
    "The time series results include the total house power&mdash;including electricity\n",
    "real and reactive power and natural gas consumption&mdash;building zone\n",
    "temperatures, and unmet HVAC load. Many [additional\n",
    "results](https://ochre-nrel.readthedocs.io/en/latest/Outputs.html) can be\n",
    "saved by increasing the `verbosity` of the simulation (default is 3)."
   ]
  },
  {
   "cell_type": "code",
   "execution_count": null,
   "metadata": {},
   "outputs": [],
   "source": [
    "df.head()"
   ]
  },
  {
   "cell_type": "markdown",
   "metadata": {},
   "source": [
    "Metrics include the total house electricity and natural gas energy consumed,\n",
    "peak electric power, average zone temperatures, and total unmet HVAC load. Many [additional\n",
    "metrics](https://ochre-nrel.readthedocs.io/en/latest/Outputs.html#all-metrics) can be\n",
    "saved by increasing the `metrics_verbosity` of the simulation (default is 3).\n"
   ]
  },
  {
   "cell_type": "code",
   "execution_count": null,
   "metadata": {},
   "outputs": [],
   "source": [
    "metrics"
   ]
  },
  {
   "cell_type": "markdown",
   "metadata": {},
   "source": [
    "The `Analysis` module has useful data analysis functions for OCHRE output\n",
    "data. The following code will recalculate the metrics\n",
    "from the previous run:\n"
   ]
  },
  {
   "cell_type": "code",
   "execution_count": null,
   "metadata": {},
   "outputs": [],
   "source": [
    "import os\n",
    "from ochre import Analysis\n",
    "\n",
    "# calculate metrics from the time series results\n",
    "metrics2 = Analysis.calculate_metrics(df)\n"
   ]
  },
  {
   "cell_type": "markdown",
   "metadata": {},
   "source": [
    "The `CreateFigures` module has useful visualization functions for OCHRE output\n",
    "data. The following code will create a stacked plot of house power by end use:\n",
    "\n"
   ]
  },
  {
   "cell_type": "code",
   "execution_count": 2,
   "metadata": {},
   "outputs": [
    {
     "ename": "KeyboardInterrupt",
     "evalue": "",
     "output_type": "error",
     "traceback": [
      "\u001b[1;31m---------------------------------------------------------------------------\u001b[0m",
      "\u001b[1;31mKeyboardInterrupt\u001b[0m                         Traceback (most recent call last)",
      "Cell \u001b[1;32mIn[2], line 3\u001b[0m\n\u001b[0;32m      1\u001b[0m get_ipython()\u001b[38;5;241m.\u001b[39mrun_line_magic(\u001b[38;5;124m'\u001b[39m\u001b[38;5;124mmatplotlib\u001b[39m\u001b[38;5;124m'\u001b[39m, \u001b[38;5;124m'\u001b[39m\u001b[38;5;124minline\u001b[39m\u001b[38;5;124m'\u001b[39m)\n\u001b[1;32m----> 3\u001b[0m \u001b[38;5;28;01mfrom\u001b[39;00m \u001b[38;5;21;01mochre\u001b[39;00m \u001b[38;5;28;01mimport\u001b[39;00m CreateFigures\n\u001b[0;32m      5\u001b[0m \u001b[38;5;66;03m# Plot results\u001b[39;00m\n\u001b[0;32m      6\u001b[0m fig \u001b[38;5;241m=\u001b[39m CreateFigures\u001b[38;5;241m.\u001b[39mplot_power_stack(df)\n",
      "File \u001b[1;32mc:\\Users\\mblonsky\\Github\\OCHRE\\.venv\\lib\\site-packages\\ochre\\__init__.py:3\u001b[0m\n\u001b[0;32m      1\u001b[0m __version__ \u001b[38;5;241m=\u001b[39m \u001b[38;5;124m\"\u001b[39m\u001b[38;5;124m0.9.0\u001b[39m\u001b[38;5;124m\"\u001b[39m\n\u001b[1;32m----> 3\u001b[0m \u001b[38;5;28;01mfrom\u001b[39;00m \u001b[38;5;21;01m.\u001b[39;00m\u001b[38;5;21;01mSimulator\u001b[39;00m \u001b[38;5;28;01mimport\u001b[39;00m Simulator\n\u001b[0;32m      4\u001b[0m \u001b[38;5;28;01mfrom\u001b[39;00m \u001b[38;5;21;01m.\u001b[39;00m\u001b[38;5;21;01mEquipment\u001b[39;00m \u001b[38;5;28;01mimport\u001b[39;00m \u001b[38;5;241m*\u001b[39m\n\u001b[0;32m      5\u001b[0m \u001b[38;5;28;01mfrom\u001b[39;00m \u001b[38;5;21;01m.\u001b[39;00m\u001b[38;5;21;01mModels\u001b[39;00m \u001b[38;5;28;01mimport\u001b[39;00m Envelope\n",
      "File \u001b[1;32mc:\\Users\\mblonsky\\Github\\OCHRE\\.venv\\lib\\site-packages\\ochre\\Simulator.py:9\u001b[0m\n\u001b[0;32m      6\u001b[0m \u001b[38;5;28;01mimport\u001b[39;00m \u001b[38;5;21;01mhashlib\u001b[39;00m\n\u001b[0;32m      8\u001b[0m \u001b[38;5;28;01mfrom\u001b[39;00m \u001b[38;5;21;01mochre\u001b[39;00m \u001b[38;5;28;01mimport\u001b[39;00m __version__\n\u001b[1;32m----> 9\u001b[0m \u001b[38;5;28;01mfrom\u001b[39;00m \u001b[38;5;21;01mochre\u001b[39;00m\u001b[38;5;21;01m.\u001b[39;00m\u001b[38;5;21;01mutils\u001b[39;00m \u001b[38;5;28;01mimport\u001b[39;00m load_csv, OCHREException\n\u001b[0;32m     10\u001b[0m \u001b[38;5;28;01mimport\u001b[39;00m \u001b[38;5;21;01mochre\u001b[39;00m\u001b[38;5;21;01m.\u001b[39;00m\u001b[38;5;21;01mutils\u001b[39;00m\u001b[38;5;21;01m.\u001b[39;00m\u001b[38;5;21;01mschedule\u001b[39;00m \u001b[38;5;28;01mas\u001b[39;00m \u001b[38;5;21;01mutils_schedule\u001b[39;00m\n\u001b[0;32m     13\u001b[0m \u001b[38;5;28;01mclass\u001b[39;00m \u001b[38;5;21;01mSimulator\u001b[39;00m:\n",
      "File \u001b[1;32mc:\\Users\\mblonsky\\Github\\OCHRE\\.venv\\lib\\site-packages\\ochre\\utils\\__init__.py:7\u001b[0m\n\u001b[0;32m      5\u001b[0m \u001b[38;5;66;03m# import .envelope import x\u001b[39;00m\n\u001b[0;32m      6\u001b[0m \u001b[38;5;28;01mfrom\u001b[39;00m \u001b[38;5;21;01m.\u001b[39;00m\u001b[38;5;21;01mequipment\u001b[39;00m \u001b[38;5;28;01mimport\u001b[39;00m update_equipment_properties\n\u001b[1;32m----> 7\u001b[0m \u001b[38;5;28;01mfrom\u001b[39;00m \u001b[38;5;21;01m.\u001b[39;00m\u001b[38;5;21;01menvelope\u001b[39;00m \u001b[38;5;28;01mimport\u001b[39;00m ZONES\n\u001b[0;32m      9\u001b[0m \u001b[38;5;28;01mfrom\u001b[39;00m \u001b[38;5;21;01m.\u001b[39;00m\u001b[38;5;21;01mhpxml\u001b[39;00m \u001b[38;5;28;01mimport\u001b[39;00m load_hpxml\n\u001b[0;32m     10\u001b[0m \u001b[38;5;28;01mfrom\u001b[39;00m \u001b[38;5;21;01m.\u001b[39;00m\u001b[38;5;21;01mschedule\u001b[39;00m \u001b[38;5;28;01mimport\u001b[39;00m load_schedule\n",
      "File \u001b[1;32mc:\\Users\\mblonsky\\Github\\OCHRE\\.venv\\lib\\site-packages\\ochre\\utils\\envelope.py:4\u001b[0m\n\u001b[0;32m      2\u001b[0m \u001b[38;5;28;01mimport\u001b[39;00m \u001b[38;5;21;01mnumpy\u001b[39;00m \u001b[38;5;28;01mas\u001b[39;00m \u001b[38;5;21;01mnp\u001b[39;00m\n\u001b[0;32m      3\u001b[0m \u001b[38;5;28;01mimport\u001b[39;00m \u001b[38;5;21;01mpandas\u001b[39;00m \u001b[38;5;28;01mas\u001b[39;00m \u001b[38;5;21;01mpd\u001b[39;00m\n\u001b[1;32m----> 4\u001b[0m \u001b[38;5;28;01mimport\u001b[39;00m \u001b[38;5;21;01mpvlib\u001b[39;00m\n\u001b[0;32m      6\u001b[0m \u001b[38;5;28;01mfrom\u001b[39;00m \u001b[38;5;21;01mochre\u001b[39;00m\u001b[38;5;21;01m.\u001b[39;00m\u001b[38;5;21;01mutils\u001b[39;00m \u001b[38;5;28;01mimport\u001b[39;00m OCHREException, load_csv, convert\n\u001b[0;32m      8\u001b[0m \u001b[38;5;66;03m# List of utility functions for OCHRE Envelope\u001b[39;00m\n",
      "File \u001b[1;32mc:\\Users\\mblonsky\\Github\\OCHRE\\.venv\\lib\\site-packages\\pvlib\\__init__.py:3\u001b[0m\n\u001b[0;32m      1\u001b[0m \u001b[38;5;28;01mfrom\u001b[39;00m \u001b[38;5;21;01mpvlib\u001b[39;00m\u001b[38;5;21;01m.\u001b[39;00m\u001b[38;5;21;01mversion\u001b[39;00m \u001b[38;5;28;01mimport\u001b[39;00m __version__  \u001b[38;5;66;03m# noqa: F401\u001b[39;00m\n\u001b[1;32m----> 3\u001b[0m \u001b[38;5;28;01mfrom\u001b[39;00m \u001b[38;5;21;01mpvlib\u001b[39;00m \u001b[38;5;28;01mimport\u001b[39;00m (  \u001b[38;5;66;03m# noqa: F401\u001b[39;00m\n\u001b[0;32m      4\u001b[0m     \u001b[38;5;66;03m# list spectrum first so it's available for atmosphere & pvsystem (GH 1628)\u001b[39;00m\n\u001b[0;32m      5\u001b[0m     spectrum,\n\u001b[0;32m      6\u001b[0m \n\u001b[0;32m      7\u001b[0m     atmosphere,\n\u001b[0;32m      8\u001b[0m     bifacial,\n\u001b[0;32m      9\u001b[0m     clearsky,\n\u001b[0;32m     10\u001b[0m     iam,\n\u001b[0;32m     11\u001b[0m     inverter,\n\u001b[0;32m     12\u001b[0m     iotools,\n\u001b[0;32m     13\u001b[0m     irradiance,\n\u001b[0;32m     14\u001b[0m     ivtools,\n\u001b[0;32m     15\u001b[0m     location,\n\u001b[0;32m     16\u001b[0m     modelchain,\n\u001b[0;32m     17\u001b[0m     pvarray,\n\u001b[0;32m     18\u001b[0m     pvsystem,\n\u001b[0;32m     19\u001b[0m     scaling,\n\u001b[0;32m     20\u001b[0m     shading,\n\u001b[0;32m     21\u001b[0m     singlediode,\n\u001b[0;32m     22\u001b[0m     snow,\n\u001b[0;32m     23\u001b[0m     soiling,\n\u001b[0;32m     24\u001b[0m     solarposition,\n\u001b[0;32m     25\u001b[0m     spa,\n\u001b[0;32m     26\u001b[0m     temperature,\n\u001b[0;32m     27\u001b[0m     tools,\n\u001b[0;32m     28\u001b[0m     tracking,\n\u001b[0;32m     29\u001b[0m )\n",
      "File \u001b[1;32mc:\\Users\\mblonsky\\Github\\OCHRE\\.venv\\lib\\site-packages\\pvlib\\spectrum\\__init__.py:2\u001b[0m\n\u001b[0;32m      1\u001b[0m \u001b[38;5;28;01mfrom\u001b[39;00m \u001b[38;5;21;01mpvlib\u001b[39;00m\u001b[38;5;21;01m.\u001b[39;00m\u001b[38;5;21;01mspectrum\u001b[39;00m\u001b[38;5;21;01m.\u001b[39;00m\u001b[38;5;21;01mspectrl2\u001b[39;00m \u001b[38;5;28;01mimport\u001b[39;00m spectrl2  \u001b[38;5;66;03m# noqa: F401\u001b[39;00m\n\u001b[1;32m----> 2\u001b[0m \u001b[38;5;28;01mfrom\u001b[39;00m \u001b[38;5;21;01mpvlib\u001b[39;00m\u001b[38;5;21;01m.\u001b[39;00m\u001b[38;5;21;01mspectrum\u001b[39;00m\u001b[38;5;21;01m.\u001b[39;00m\u001b[38;5;21;01mmismatch\u001b[39;00m \u001b[38;5;28;01mimport\u001b[39;00m (  \u001b[38;5;66;03m# noqa: F401\u001b[39;00m\n\u001b[0;32m      3\u001b[0m     calc_spectral_mismatch_field,\n\u001b[0;32m      4\u001b[0m     get_am15g,\n\u001b[0;32m      5\u001b[0m     get_example_spectral_response,\n\u001b[0;32m      6\u001b[0m     spectral_factor_caballero,\n\u001b[0;32m      7\u001b[0m     spectral_factor_firstsolar,\n\u001b[0;32m      8\u001b[0m     spectral_factor_sapm,\n\u001b[0;32m      9\u001b[0m )\n",
      "File \u001b[1;32mc:\\Users\\mblonsky\\Github\\OCHRE\\.venv\\lib\\site-packages\\pvlib\\spectrum\\mismatch.py:9\u001b[0m\n\u001b[0;32m      7\u001b[0m \u001b[38;5;28;01mimport\u001b[39;00m \u001b[38;5;21;01mpandas\u001b[39;00m \u001b[38;5;28;01mas\u001b[39;00m \u001b[38;5;21;01mpd\u001b[39;00m\n\u001b[0;32m      8\u001b[0m \u001b[38;5;28;01mfrom\u001b[39;00m \u001b[38;5;21;01mscipy\u001b[39;00m\u001b[38;5;21;01m.\u001b[39;00m\u001b[38;5;21;01minterpolate\u001b[39;00m \u001b[38;5;28;01mimport\u001b[39;00m interp1d\n\u001b[1;32m----> 9\u001b[0m \u001b[38;5;28;01mfrom\u001b[39;00m \u001b[38;5;21;01mscipy\u001b[39;00m\u001b[38;5;21;01m.\u001b[39;00m\u001b[38;5;21;01mintegrate\u001b[39;00m \u001b[38;5;28;01mimport\u001b[39;00m trapezoid\n\u001b[0;32m     10\u001b[0m \u001b[38;5;28;01mimport\u001b[39;00m \u001b[38;5;21;01mos\u001b[39;00m\n\u001b[0;32m     12\u001b[0m \u001b[38;5;28;01mfrom\u001b[39;00m \u001b[38;5;21;01mwarnings\u001b[39;00m \u001b[38;5;28;01mimport\u001b[39;00m warn\n",
      "File \u001b[1;32mc:\\Users\\mblonsky\\Github\\OCHRE\\.venv\\lib\\site-packages\\scipy\\integrate\\__init__.py:97\u001b[0m\n\u001b[0;32m     95\u001b[0m \u001b[38;5;28;01mfrom\u001b[39;00m \u001b[38;5;21;01m.\u001b[39;00m\u001b[38;5;21;01m_odepack_py\u001b[39;00m \u001b[38;5;28;01mimport\u001b[39;00m \u001b[38;5;241m*\u001b[39m\n\u001b[0;32m     96\u001b[0m \u001b[38;5;28;01mfrom\u001b[39;00m \u001b[38;5;21;01m.\u001b[39;00m\u001b[38;5;21;01m_quadpack_py\u001b[39;00m \u001b[38;5;28;01mimport\u001b[39;00m \u001b[38;5;241m*\u001b[39m\n\u001b[1;32m---> 97\u001b[0m \u001b[38;5;28;01mfrom\u001b[39;00m \u001b[38;5;21;01m.\u001b[39;00m\u001b[38;5;21;01m_ode\u001b[39;00m \u001b[38;5;28;01mimport\u001b[39;00m \u001b[38;5;241m*\u001b[39m\n\u001b[0;32m     98\u001b[0m \u001b[38;5;28;01mfrom\u001b[39;00m \u001b[38;5;21;01m.\u001b[39;00m\u001b[38;5;21;01m_bvp\u001b[39;00m \u001b[38;5;28;01mimport\u001b[39;00m solve_bvp\n\u001b[0;32m     99\u001b[0m \u001b[38;5;28;01mfrom\u001b[39;00m \u001b[38;5;21;01m.\u001b[39;00m\u001b[38;5;21;01m_ivp\u001b[39;00m \u001b[38;5;28;01mimport\u001b[39;00m (solve_ivp, OdeSolution, DenseOutput,\n\u001b[0;32m    100\u001b[0m                    OdeSolver, RK23, RK45, DOP853, Radau, BDF, LSODA)\n",
      "File \u001b[1;32mc:\\Users\\mblonsky\\Github\\OCHRE\\.venv\\lib\\site-packages\\scipy\\integrate\\_ode.py:88\u001b[0m\n\u001b[0;32m     84\u001b[0m \u001b[38;5;28;01mimport\u001b[39;00m \u001b[38;5;21;01mwarnings\u001b[39;00m\n\u001b[0;32m     86\u001b[0m \u001b[38;5;28;01mfrom\u001b[39;00m \u001b[38;5;21;01mnumpy\u001b[39;00m \u001b[38;5;28;01mimport\u001b[39;00m asarray, array, zeros, isscalar, real, imag, vstack\n\u001b[1;32m---> 88\u001b[0m \u001b[38;5;28;01mfrom\u001b[39;00m \u001b[38;5;21;01m.\u001b[39;00m \u001b[38;5;28;01mimport\u001b[39;00m _vode\n\u001b[0;32m     89\u001b[0m \u001b[38;5;28;01mfrom\u001b[39;00m \u001b[38;5;21;01m.\u001b[39;00m \u001b[38;5;28;01mimport\u001b[39;00m _dop\n\u001b[0;32m     90\u001b[0m \u001b[38;5;28;01mfrom\u001b[39;00m \u001b[38;5;21;01m.\u001b[39;00m \u001b[38;5;28;01mimport\u001b[39;00m _lsoda\n",
      "\u001b[1;31mKeyboardInterrupt\u001b[0m: "
     ]
    }
   ],
   "source": [
    "%matplotlib inline\n",
    "\n",
    "from ochre import CreateFigures\n",
    "\n",
    "# Plot results\n",
    "fig = CreateFigures.plot_power_stack(df)"
   ]
  },
  {
   "cell_type": "markdown",
   "metadata": {},
   "source": [
    "The following code will plot the average daily load profile:"
   ]
  },
  {
   "cell_type": "code",
   "execution_count": null,
   "metadata": {},
   "outputs": [],
   "source": [
    "fig = CreateFigures.plot_daily_profile(df, 'Total Electric Power (kW)', plot_max=False, plot_min=False)"
   ]
  },
  {
   "cell_type": "markdown",
   "metadata": {},
   "source": [
    "### <a name=\"add-equipment\"></a>Adding equipment to a dwelling\n",
    "\n",
    "Many [additional\n",
    "inputs](https://ochre-nrel.readthedocs.io/en/latest/InputsAndArguments.html#dwelling-arguments)\n",
    "can be specified when initializing a dwelling model. A common use case is to\n",
    "add or modify equipment that are not specified in the HPXML input file. In\n",
    "particular, EV, solar PV, and battery equipment are not read from the HPXML\n",
    "file and must be specified during initialization.\n",
    "\n",
    "The following code will initialize the same Dwelling and add an EV and solar\n",
    "PV. For an example with more details, see\n",
    "[run_dwelling.py](https://github.com/NREL/OCHRE/tree/main/bin/run_dwelling.py).\n"
   ]
  },
  {
   "cell_type": "code",
   "execution_count": null,
   "metadata": {},
   "outputs": [],
   "source": [
    "new_equipment = {\n",
    "    \"EV\": {\n",
    "        \"vehicle_type\": \"BEV\",\n",
    "        \"charging_level\": \"Level 2\",\n",
    "        \"range\": 250,\n",
    "    },\n",
    "    \"PV\": {\n",
    "        \"capacity\": 5,\n",
    "    },\n",
    "}\n",
    "new_equipment_args = {\n",
    "    **dwelling_args,  # copies arguments from the above example\n",
    "    \"Equipment\": new_equipment,\n",
    "}\n",
    "\n",
    "# Create Dwelling model\n",
    "dwelling_with_new_equipment = Dwelling(**new_equipment_args)\n"
   ]
  },
  {
   "cell_type": "code",
   "execution_count": null,
   "metadata": {},
   "outputs": [],
   "source": [
    "df, metrics, hourly = dwelling.simulate()\n",
    "\n",
    "fig = CreateFigures.plot_power_stack(df)\n"
   ]
  },
  {
   "cell_type": "markdown",
   "metadata": {},
   "source": [
    "### <a name=\"download\"></a>Downloading ResStock Models\n",
    "\n",
    "The above examples use sample files that are included in the OCHRE package. A\n",
    "simple way to use other input files is to download them from ResStock\n",
    "Datasets. ResStock metadata can be used to choose which model to download.\n",
    "\n",
    "The following code will download ResStock files (the same ones as the sample\n",
    "files) to your current working directory. On Google Colab, these files can be\n",
    "viewed by clicking on the folder icon on the left-hand side. You can also\n",
    "upload your own files to Colab.\n"
   ]
  },
  {
   "cell_type": "code",
   "execution_count": null,
   "metadata": {},
   "outputs": [],
   "source": [
    "Analysis.download_resstock_model(\"bldg0112631\", \"up11\")"
   ]
  },
  {
   "cell_type": "markdown",
   "metadata": {},
   "source": [
    "### <a name=\"cli\"></a>Running through the command line\n",
    "\n",
    "OCHRE includes [command line and graphical user\n",
    "interfaces](https://ochre-nrel.readthedocs.io/en/latest/Introduction.html#command-line-interface)\n",
    "for simple use cases. By default, these tools will run a dwelling at hourly\n",
    "resolution for one year of simulation. \n",
    "\n",
    "After installing OCHRE, you can run ``ochre --help`` in the command line for\n",
    "more information on the available options. \n",
    "\n"
   ]
  },
  {
   "cell_type": "code",
   "execution_count": null,
   "metadata": {},
   "outputs": [],
   "source": [
    "%ochre --help"
   ]
  },
  {
   "cell_type": "code",
   "execution_count": null,
   "metadata": {},
   "outputs": [],
   "source": [
    "%ochre single --help"
   ]
  },
  {
   "cell_type": "markdown",
   "metadata": {},
   "source": [
    "The following code will run OCHRE through the command line with the files that\n",
    "you just downloaded. We reduce the duration to 3 days to reduce the\n",
    "computation time."
   ]
  },
  {
   "cell_type": "code",
   "execution_count": null,
   "metadata": {},
   "outputs": [],
   "source": [
    "%ochre single --duration=3"
   ]
  },
  {
   "cell_type": "markdown",
   "metadata": {},
   "source": [
    "Output files can be viewed directly, or loaded using the following code."
   ]
  },
  {
   "cell_type": "code",
   "execution_count": null,
   "metadata": {},
   "outputs": [],
   "source": [
    "# Load results from previous run\n",
    "sim_folder = os.getcwd()\n",
    "sim_name = \"ochre\"\n",
    "df, metrics, hourly = Analysis.load_ochre(sim_folder, sim_name)\n",
    "\n",
    "fig = CreateFigures.plot_power_stack(df)\n"
   ]
  },
  {
   "attachments": {},
   "cell_type": "markdown",
   "metadata": {},
   "source": [
    "## <a name=\"equipment\"></a>Simulating a single piece of equipment\n",
    "\n",
    "OCHRE can simulate a single piece of equipment, including an electric vehicle,\n",
    "water heater, solar PV system, or battery. Compared to simulating a full\n",
    "dwelling, fewer input files and arguments are required. However, most\n",
    "equipment require some [input\n",
    "arguments](https://ochre-nrel.readthedocs.io/en/latest/InputsAndArguments.html#equipment-specific-arguments)\n",
    "that often need to be specified manually.\n",
    "\n",
    "This tutorial shows examples to simulate an EV and a water heater. For more\n",
    "details and examples, see\n",
    "[run_equipment.py](https://github.com/NREL/OCHRE/blob/main/bin/run_equipment.py)."
   ]
  },
  {
   "cell_type": "markdown",
   "metadata": {},
   "source": [
    "### <a name=\"ev\"></a>Simulating an electric vehicle\n",
    "\n",
    "The following code will initialize and then simulate an [electric\n",
    "vehicle](https://ochre-nrel.readthedocs.io/en/latest/ModelingApproach.html#electric-vehicles).\n",
    "The vehicle type (i.e., drive train), charging level, and range must be\n",
    "specified. More details on EV inputs can be found in the\n",
    "[documentation](https://ochre-nrel.readthedocs.io/en/latest/InputsAndArguments.html#electric-vehicle)."
   ]
  },
  {
   "cell_type": "code",
   "execution_count": null,
   "metadata": {},
   "outputs": [],
   "source": [
    "from ochre import ElectricVehicle\n",
    "\n",
    "equipment_args = {\n",
    "    \"start_time\": dt.datetime(2018, 1, 1, 0, 0),  # year, month, day, hour, minute\n",
    "    \"time_res\": dt.timedelta(minutes=15),\n",
    "    \"duration\": dt.timedelta(days=10),\n",
    "    \"save_results\": False,  # if True, must specify output_path\n",
    "    # \"output_path\": os.getcwd(),\n",
    "\n",
    "    # Equipment-specific parameters\n",
    "    \"vehicle_type\": \"BEV\",\n",
    "    \"charging_level\": \"Level 1\",\n",
    "    \"range\": 200,\n",
    "}\n",
    "\n",
    "# Initialize equipment\n",
    "equipment = ElectricVehicle(**equipment_args)"
   ]
  },
  {
   "cell_type": "code",
   "execution_count": null,
   "metadata": {},
   "outputs": [],
   "source": [
    "# Simulate equipment\n",
    "df = equipment.simulate()\n",
    "\n",
    "df.head()\n"
   ]
  },
  {
   "cell_type": "code",
   "execution_count": null,
   "metadata": {},
   "outputs": [],
   "source": [
    "fig = CreateFigures.plot_daily_profile(df, \"EV Electric Power (kW)\", plot_max=False, plot_min=False)\n"
   ]
  },
  {
   "cell_type": "code",
   "execution_count": null,
   "metadata": {},
   "outputs": [],
   "source": [
    "fig = CreateFigures.plot_time_series_detailed((df[\"EV SOC (-)\"],))\n"
   ]
  },
  {
   "cell_type": "markdown",
   "metadata": {},
   "source": [
    "### <a name=\"water_heater\"></a>Simulating a water heater\n",
    "\n",
    "The following code will initialize and then simulate a [water\n",
    "heater](https://ochre-nrel.readthedocs.io/en/latest/ModelingApproach.html#water-heating).\n",
    "Multiple inputs are required, including the setpoint temperature, tank size,\n",
    "and heat transfer coefficient. A time series schedule is required that\n",
    "includes a water draw profile, the air temperature surrounding the water\n",
    "heater (\"Zone Temperature\"), and the water mains temperature. More details on\n",
    "water heater inputs can be found in the\n",
    "[documentation](https://ochre-nrel.readthedocs.io/en/latest/InputsAndArguments.html#water-heating)."
   ]
  },
  {
   "cell_type": "code",
   "execution_count": null,
   "metadata": {},
   "outputs": [],
   "source": [
    "import numpy as np\n",
    "import pandas as pd\n",
    "from ochre import ElectricResistanceWaterHeater\n",
    "\n",
    "# Create water draw schedule\n",
    "start_time = dt.datetime(2018, 1, 1, 0, 0)  # year, month, day, hour, minute\n",
    "time_res = dt.timedelta(minutes=1)\n",
    "duration = dt.timedelta(days=10)\n",
    "times = pd.date_range(\n",
    "    start_time,\n",
    "    start_time + duration,\n",
    "    freq=time_res,\n",
    "    inclusive=\"left\",\n",
    ")\n",
    "water_draw_magnitude = 12  # L/min\n",
    "withdraw_rate = np.random.choice([0, water_draw_magnitude], p=[0.99, 0.01], size=len(times))\n",
    "schedule = pd.DataFrame(\n",
    "    {\n",
    "        \"Water Heating (L/min)\": withdraw_rate,\n",
    "        \"Zone Temperature (C)\": 20,\n",
    "        \"Mains Temperature (C)\": 7,\n",
    "    },\n",
    "    index=times,\n",
    ")\n",
    "\n",
    "equipment_args = {\n",
    "    \"start_time\": start_time,  # year, month, day, hour, minute\n",
    "    \"time_res\": time_res,\n",
    "    \"duration\": duration,\n",
    "    \"save_results\": False,  # if True, must specify output_path\n",
    "    # \"output_path\": os.getcwd(),\n",
    "    # Equipment-specific parameters\n",
    "    \"Setpoint Temperature (C)\": 51,\n",
    "    \"Tank Volume (L)\": 250,\n",
    "    \"Tank Height (m)\": 1.22,\n",
    "    \"UA (W/K)\": 2.17,\n",
    "    \"schedule\": schedule,\n",
    "}\n",
    "\n",
    "# Initialize equipment\n",
    "wh = ElectricResistanceWaterHeater(**equipment_args)\n"
   ]
  },
  {
   "cell_type": "code",
   "execution_count": null,
   "metadata": {},
   "outputs": [],
   "source": [
    "# Run simulation\n",
    "df = wh.simulate()\n",
    "\n",
    "# Show results\n",
    "df.head()\n"
   ]
  },
  {
   "cell_type": "code",
   "execution_count": null,
   "metadata": {},
   "outputs": [],
   "source": [
    "fig = CreateFigures.plot_daily_profile(\n",
    "    df, \"Water Heating Electric Power (kW)\", plot_max=False, plot_min=False\n",
    ")"
   ]
  },
  {
   "cell_type": "code",
   "execution_count": null,
   "metadata": {},
   "outputs": [],
   "source": [
    "fig = CreateFigures.plot_time_series_detailed((df[\"Hot Water Outlet Temperature (C)\"],))"
   ]
  },
  {
   "cell_type": "markdown",
   "metadata": {},
   "source": [
    "## <a name=\"fleet\"></a>Simulating a fleet\n",
    "\n",
    "OCHRE can simulate multiple homes or pieces of equipment at once to model a\n",
    "aggregation or a fleet of devices. The following examples show how to model a\n",
    "fleet of EVs or a set of homes sequentially. Simulations can be run\n",
    "sequentially or in parallel (without interactions between them) using the [command line\n",
    "interface](https://ochre-nrel.readthedocs.io/en/latest/Introduction.html#command-line-interface).\n",
    "See the [following section](#control) to run simulations with interactions\n",
    "through external controllers.\n",
    "\n",
    "For more details and examples, see\n",
    "[run_fleet.py](https://github.com/NREL/OCHRE/blob/main/bin/run_fleet.py)\n",
    "and\n",
    "[run_multiple.py](https://github.com/NREL/OCHRE/blob/main/bin/run_multiple.py)."
   ]
  },
  {
   "cell_type": "markdown",
   "metadata": {},
   "source": [
    "### <a name=\"ev-fleet\"></a>Simulating an EV fleet\n",
    "\n",
    "The following code will set up a fleet of EV models, run each one\n",
    "sequentially, and then plot the power of each EV."
   ]
  },
  {
   "cell_type": "code",
   "execution_count": null,
   "metadata": {},
   "outputs": [],
   "source": [
    "def setup_ev(i) -> ElectricVehicle:\n",
    "    # randomly select vehicle type, range, and charging level\n",
    "    vehicle_type = np.random.choice([\"BEV\", \"PHEV\"])\n",
    "    charging_level = np.random.choice([\"Level 1\", \"Level 2\"])\n",
    "    if vehicle_type == \"BEV\":\n",
    "        range = round(np.random.uniform(100, 300))\n",
    "    else:\n",
    "        range = round(np.random.uniform(20, 70))\n",
    "\n",
    "    # Option to specify a file with EV charging events\n",
    "    # Defaults to older charging event data\n",
    "    # equipment_event_file = None\n",
    "    lvl = charging_level.lower().replace(\" \", \"_\")\n",
    "    equipment_event_file = os.path.join(default_input_path, \"EV\", f\"{vehicle_type}_{lvl}.csv\")\n",
    "\n",
    "    # Initialize equipment\n",
    "    return ElectricVehicle(\n",
    "        name=f\"EV_{i}\",\n",
    "        seed=i,  # used to randomize charging events. Not used for randomization above\n",
    "        vehicle_type=vehicle_type,\n",
    "        charging_level=charging_level,\n",
    "        range=range,\n",
    "        start_time=dt.datetime(2018, 1, 1, 0, 0),  # year, month, day, hour, minute\n",
    "        time_res=dt.timedelta(minutes=15),\n",
    "        duration=dt.timedelta(days=5),\n",
    "        save_results=False,  # if True, must specify output_path\n",
    "        # output_path=os.getcwd(),\n",
    "        equipment_event_file=equipment_event_file,\n",
    "    )\n",
    "\n",
    "# Create fleet\n",
    "n = 4\n",
    "fleet = [setup_ev(i + 1) for i in range(n)]\n"
   ]
  },
  {
   "cell_type": "code",
   "execution_count": null,
   "metadata": {},
   "outputs": [],
   "source": [
    "def run_ev(ev: ElectricVehicle):\n",
    "    df = ev.simulate()\n",
    "    out = df[\"EV Electric Power (kW)\"]\n",
    "    out.name = ev.name\n",
    "    return out\n",
    "\n",
    "# Simulate fleet\n",
    "results = []\n",
    "for ev in fleet:\n",
    "    results.append(run_ev(ev))\n",
    "\n",
    "# combine load profiles\n",
    "df = pd.concat(results, axis=1)\n",
    "\n",
    "df.head()\n"
   ]
  },
  {
   "cell_type": "code",
   "execution_count": null,
   "metadata": {},
   "outputs": [],
   "source": [
    "df.plot()\n"
   ]
  },
  {
   "cell_type": "markdown",
   "metadata": {},
   "source": [
    "### <a name=\"house-fleet\"></a>Simulating multiple houses\n",
    "\n",
    "The following code will download two building models from the ResStock 2024.2\n",
    "dataset and sequentially initialize and simulate them. In Google Colab, you\n",
    "can view the input and output files by clicking the folder icon on the\n",
    "left-hand side."
   ]
  },
  {
   "cell_type": "code",
   "execution_count": null,
   "metadata": {},
   "outputs": [],
   "source": [
    "import shutil\n",
    "\n",
    "from ochre import Analysis\n",
    "\n",
    "# Note: see documentation for where to download other weather files\n",
    "# https://ochre-nrel.readthedocs.io/en/latest/InputsAndArguments.html#weather-file\n",
    "default_weather_file = os.path.join(default_input_path, \"Weather\", \"G0800310.epw\")\n",
    "\n",
    "main_path = os.getcwd()\n",
    "\n",
    "# Download ResStock files to current directory\n",
    "buildings = [\"bldg0112631\"]\n",
    "upgrades = [\"up00\", \"up11\"]\n",
    "input_paths = []\n",
    "for upgrade in upgrades:\n",
    "    for building in buildings:\n",
    "        input_path = os.path.join(main_path, building, upgrade)\n",
    "        os.makedirs(input_path, exist_ok=True)\n",
    "        Analysis.download_resstock_model(building, upgrade, input_path, overwrite=False)\n",
    "        shutil.copy(default_weather_file, input_path)\n",
    "        input_paths.append(input_path)\n"
   ]
  },
  {
   "cell_type": "code",
   "execution_count": null,
   "metadata": {},
   "outputs": [],
   "source": [
    "from ochre.cli import create_dwelling\n",
    "\n",
    "# Run Dwelling models sequentially\n",
    "for input_path in input_paths:\n",
    "    dwelling = create_dwelling(input_path, duration=7)\n",
    "    dwelling.simulate()\n"
   ]
  },
  {
   "attachments": {},
   "cell_type": "markdown",
   "metadata": {},
   "source": [
    "## <a name=\"control\"></a>Simulating with external controllers\n",
    "\n",
    "OCHRE is designed to integrate with external controllers and other modeling\n",
    "tools. External controllers can adjust the power consumption of any OCHRE\n",
    "equipment using multiple [control\n",
    "methods](https://ochre-nrel.readthedocs.io/en/latest/ControllerIntegration.html).\n",
    "The following examples show device-level control methods for HVAC systems,\n",
    "EVs, and water heaters.\n",
    "\n",
    "For more details and examples, see\n",
    "[run_external_control.py](https://github.com/NREL/OCHRE/blob/main/bin/run_external_control.py).\n",
    "There is also example code to run OCHRE in\n",
    "[co-simulation](https://github.com/NREL/OCHRE/blob/main/bin/run_cosimulation.py)\n",
    "using HELICS."
   ]
  },
  {
   "attachments": {},
   "cell_type": "markdown",
   "metadata": {},
   "source": [
    "### <a name=\"hvac-control\"></a>HVAC setpoint control\n",
    "\n",
    "This control will reduce the heating setpoint by 1C from 5-9PM each day. It\n",
    "adjusts the setpoint schedule before beginning the simulation; however, this\n",
    "control can be achieved by setting the setpoint at every time step as well. We\n",
    "use the same house model as the first example."
   ]
  },
  {
   "cell_type": "code",
   "execution_count": null,
   "metadata": {},
   "outputs": [],
   "source": [
    "# Update the simulation args to run at a finer time resolution\n",
    "dwelling_args.update(\n",
    "    {\n",
    "        \"time_res\": dt.timedelta(minutes=1),  # time resolution of the simulation\n",
    "        \"duration\": dt.timedelta(days=1),  # duration of the simulation\n",
    "        \"verbosity\": 6,  # increases the number of results for plotting (default=3)\n",
    "    }\n",
    ")\n",
    "\n",
    "# Initialize the Dwelling\n",
    "dwelling = Dwelling(**dwelling_args)\n",
    "\n",
    "# Get HVAC heater schedule\n",
    "heater = dwelling.get_equipment_by_end_use(\"HVAC Heating\")\n",
    "schedule = heater.schedule\n",
    "\n",
    "# Reduce heating setpoint by 1C from 5-9PM (setpoint is already in the schedule)\n",
    "peak_times = (schedule.index.hour >= 17) & (schedule.index.hour < 21)\n",
    "schedule.loc[peak_times, \"HVAC Heating Setpoint (C)\"] -= 1\n",
    "\n",
    "# Adjust the HVAC deadband temperature (not in the schedule yet)\n",
    "schedule[\"HVAC Heating Deadband (C)\"] = 1\n",
    "schedule.loc[peak_times, \"HVAC Heating Deadband (C)\"] = 2\n",
    "\n",
    "# Reset the schedule to implement the changes\n",
    "heater.reset_time()\n",
    "\n",
    "# Simulate\n",
    "df, _, _ = dwelling.simulate()\n"
   ]
  },
  {
   "cell_type": "code",
   "execution_count": null,
   "metadata": {},
   "outputs": [],
   "source": [
    "cols_to_plot = [\n",
    "    \"HVAC Heating Setpoint (C)\",\n",
    "    \"Temperature - Indoor (C)\",\n",
    "    \"Temperature - Outdoor (C)\",\n",
    "    \"Unmet HVAC Load (C)\",\n",
    "    \"HVAC Heating Electric Power (kW)\",\n",
    "]\n",
    "df.loc[:, cols_to_plot].plot()\n"
   ]
  },
  {
   "attachments": {},
   "cell_type": "markdown",
   "metadata": {},
   "source": [
    "### <a name=\"ev-control\"></a>EV managed charging\n",
    "\n",
    "This control implements \"perfect\" managed charging for an EV. At each time\n",
    "step, it calculates the average power required to achieve 100% SOC by the end\n",
    "of the parking session, and sets the charging power to that value."
   ]
  },
  {
   "cell_type": "code",
   "execution_count": null,
   "metadata": {},
   "outputs": [],
   "source": [
    "from ochre.Equipment.EV import EV_EFFICIENCY\n",
    "\n",
    "equipment_args = {\n",
    "    \"start_time\": dt.datetime(2018, 1, 1, 0, 0),  # year, month, day, hour, minute\n",
    "    \"time_res\": dt.timedelta(minutes=60),\n",
    "    \"duration\": dt.timedelta(days=20),\n",
    "    \"verbosity\": 3,\n",
    "    \"save_results\": False,  # if True, must specify output_path\n",
    "    # \"output_path\": os.getcwd(),\n",
    "    # Equipment parameters\n",
    "    \"vehicle_type\": \"BEV\",\n",
    "    \"charging_level\": \"Level 1\",\n",
    "    \"range\": 150,\n",
    "}\n",
    "\n",
    "# Initialize\n",
    "ev = ElectricVehicle(**equipment_args)\n",
    "\n",
    "# slow charge from start to end of parking\n",
    "for t in ev.sim_times:\n",
    "    remaining_hours = (ev.event_end - t).total_seconds() / 3600\n",
    "    remaining_kwh = (1 - ev.soc) * ev.capacity\n",
    "    if t >= ev.event_start and remaining_hours:\n",
    "        power = remaining_kwh / remaining_hours / EV_EFFICIENCY\n",
    "        ev.update({\"Max Power\": power})\n",
    "    else:\n",
    "        ev.update()\n",
    "\n",
    "df = ev.finalize()\n"
   ]
  },
  {
   "cell_type": "code",
   "execution_count": null,
   "metadata": {},
   "outputs": [],
   "source": [
    "CreateFigures.plot_daily_profile(df, \"EV Electric Power (kW)\", plot_max=False, plot_min=False)\n"
   ]
  },
  {
   "cell_type": "code",
   "execution_count": null,
   "metadata": {},
   "outputs": [],
   "source": [
    "df.loc[:, [\"EV Electric Power (kW)\", \"EV Unmet Load (kWh)\", \"EV SOC (-)\"]].plot()\n"
   ]
  },
  {
   "cell_type": "markdown",
   "metadata": {},
   "source": [
    "### <a name=\"wh-control\"></a>HPWH CTA-2045 control\n",
    "\n",
    "This control implements the CTA-2045 Load Add and Load Shed control for a heat\n",
    "pump water heater. The control will adjust the setpoint and deadband of the\n",
    "water heater thermostat to increase load for 1 hour (at 7AM and 4PM) and then\n",
    "reduce load for 1 hour (at 8AM and 5PM)."
   ]
  },
  {
   "cell_type": "code",
   "execution_count": null,
   "metadata": {},
   "outputs": [],
   "source": [
    "from ochre import HeatPumpWaterHeater\n",
    "\n",
    "# Define equipment and simulation parameters\n",
    "setpoint_default = 51  # in C\n",
    "deadband_default = 5.56  # in C\n",
    "equipment_args = {\n",
    "    \"start_time\": dt.datetime(2018, 1, 1, 0, 0),  # year, month, day, hour, minute\n",
    "    \"time_res\": dt.timedelta(minutes=1),\n",
    "    \"duration\": dt.timedelta(days=1),\n",
    "    \"verbosity\": 7,  # required to get setpoint and deadband in results\n",
    "    \"save_results\": False,  # if True, must specify output_path\n",
    "    # \"output_path\": os.getcwd(),        # Equipment parameters\n",
    "    \"Setpoint Temperature (C)\": setpoint_default,\n",
    "    \"Tank Volume (L)\": 250,\n",
    "    \"Tank Height (m)\": 1.22,\n",
    "    \"UA (W/K)\": 2.17,\n",
    "    \"HPWH COP (-)\": 4.5,\n",
    "}\n",
    "\n",
    "# Create water draw schedule\n",
    "times = pd.date_range(\n",
    "    equipment_args[\"start_time\"],\n",
    "    equipment_args[\"start_time\"] + equipment_args[\"duration\"],\n",
    "    freq=equipment_args[\"time_res\"],\n",
    "    inclusive=\"left\",\n",
    ")\n",
    "water_draw_magnitude = 12  # L/min\n",
    "withdraw_rate = np.random.choice([0, water_draw_magnitude], p=[0.99, 0.01], size=len(times))\n",
    "schedule = pd.DataFrame(\n",
    "    {\n",
    "        \"Water Heating (L/min)\": withdraw_rate,\n",
    "        \"Water Heating Setpoint (C)\": setpoint_default,  # Setting so that it can reset\n",
    "        \"Water Heating Deadband (C)\": deadband_default,  # Setting so that it can reset\n",
    "        \"Zone Temperature (C)\": 20,\n",
    "        \"Zone Wet Bulb Temperature (C)\": 15,  # Required for HPWH\n",
    "        \"Mains Temperature (C)\": 7,\n",
    "    },\n",
    "    index=times,\n",
    ")\n",
    "\n",
    "# Initialize equipment\n",
    "hpwh = HeatPumpWaterHeater(schedule=schedule, **equipment_args)\n",
    "\n",
    "# Simulate\n",
    "control_signal = {}\n",
    "for t in hpwh.sim_times:\n",
    "    # Change setpoint based on hour of day\n",
    "    if t.hour in [7, 16]:\n",
    "        # CTA-2045 Basic Load Add command\n",
    "        control_signal = {\"Deadband\": deadband_default - 2.78}\n",
    "    elif t.hour in [8, 17]:\n",
    "        # CTA-2045 Load Shed command\n",
    "        control_signal = {\n",
    "            \"Setpoint\": setpoint_default - 5.56,\n",
    "            \"Deadband\": deadband_default - 2.78,\n",
    "        }\n",
    "    else:\n",
    "        control_signal = {}\n",
    "\n",
    "    # Run with controls\n",
    "    _ = hpwh.update(control_signal=control_signal)\n",
    "\n",
    "df = hpwh.finalize()\n",
    "\n",
    "df.head()\n"
   ]
  },
  {
   "cell_type": "code",
   "execution_count": null,
   "metadata": {},
   "outputs": [],
   "source": [
    "cols_to_plot = [\n",
    "    \"Hot Water Outlet Temperature (C)\",\n",
    "    \"Hot Water Average Temperature (C)\",\n",
    "    \"Water Heating Deadband Upper Limit (C)\",\n",
    "    \"Water Heating Deadband Lower Limit (C)\",\n",
    "    \"Water Heating Electric Power (kW)\",\n",
    "    \"Hot Water Unmet Demand (kW)\",\n",
    "    \"Hot Water Delivered (L/min)\",\n",
    "]\n",
    "df.loc[:, cols_to_plot].plot()\n"
   ]
  },
  {
   "cell_type": "markdown",
   "metadata": {},
   "source": []
  }
 ],
 "metadata": {
  "kernelspec": {
   "display_name": ".venv",
   "language": "python",
   "name": "python3"
  },
  "language_info": {
   "codemirror_mode": {
    "name": "ipython",
    "version": 3
   },
   "file_extension": ".py",
   "mimetype": "text/x-python",
   "name": "python",
   "nbconvert_exporter": "python",
   "pygments_lexer": "ipython3",
   "version": "3.10.4"
  },
  "orig_nbformat": 4
 },
 "nbformat": 4,
 "nbformat_minor": 2
}
