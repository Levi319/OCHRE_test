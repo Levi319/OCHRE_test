{
 "cells": [
  {
   "cell_type": "markdown",
   "metadata": {
    "id": "pWa4m5ejIOBO"
   },
   "source": [
    "# OCHRE User Tutorial\n",
    "\n",
    "OCHRE&trade; is a Python-based energy modeling tool designed to model end-use\n",
    "loads and distributed energy resources in residential buildings. It can model\n",
    "flexible devices---including HVAC equipment, water heaters, electric vehicles,\n",
    "solar PV, and batteries---and the thermal and electrical interactions between\n",
    "them. OCHRE has been used to generate diverse and high-resolution load\n",
    "profiles, examine the impacts of advanced control strategies on energy costs\n",
    "and occupant comfort, and assess grid reliability and resilience through\n",
    "building-to-grid co-simulation.\n",
    "\n",
    "This tutorial covers the basics of how to install and run OCHRE, and provides\n",
    "some examples for various use cases. It can be downloaded online\n",
    "[here](https://github.com/NREL/OCHRE/blob/main/notebook/user_tutorial.ipynb).\n",
    "\n",
    "More information about OCHRE can be found in [our\n",
    "documentation](https://ochre-nrel.readthedocs.io/), on [NREL's\n",
    "website](https://www.nrel.gov/grid/ochre.html), and from the [Powered By\n",
    "OCHRE](https://www.youtube.com/watch?v=B5elLVtYDbI) webinar recording.\n",
    "\n",
    "If you use OCHRE for your research or other projects, please fill out our\n",
    "[user survey](https://forms.office.com/g/U4xYhaWEvs).\n",
    "\n",
    "* [Set up](#setup)\n",
    "  * [Running online](#online)\n",
    "  * [Local installation](#install)\n",
    "  * [Getting input files](#inputs)\n",
    "* [Simulating a dwelling](#dwelling)\n",
    "  * [Simulating a sample dwelling](#sample)\n",
    "  * [Adding equipment to a dwelling](#add-equipment)\n",
    "  * [Downloading input files](#download)\n",
    "  * [Running through the command line](#cli)\n",
    "* [Simulating a single piece of equipment](#equipment)\n",
    "  * [Electric vehicle](#ev)\n",
    "  * [Water heater](#water_heater)\n",
    "* [Simulating a fleet](#fleet)\n",
    "  * [EV fleet](#ev-fleet)\n",
    "  * [Multiple houses](#house-fleet)\n",
    "* [Simulating with external controllers](#control)\n",
    "  * [HVAC setpoint control](#hvac-control)\n",
    "  * [EV managed charging](#ev-control)\n",
    "  * [HPWH CTA-2045 control](#wh-control)\n"
   ]
  },
  {
   "cell_type": "markdown",
   "metadata": {
    "id": "CZ_MCfyXIOBQ"
   },
   "source": [
    "## <a name=\"setup\"></a>Set up\n"
   ]
  },
  {
   "cell_type": "markdown",
   "metadata": {
    "id": "8tdKjVjBIOBQ"
   },
   "source": [
    "### <a name=\"online\"></a>Running online\n",
    "\n",
    "OCHRE can be run online through an interactive Jupyter notebook. The code\n",
    "below will install OCHRE in the current environment.\n",
    "\n",
    "**Note for Google Colab users**: You may need to restart the notebook after\n",
    "installing OCHRE (see Runtime > Restart Session). There may be errors or\n",
    "warnings about dependency issues, but these will not affect the code in this\n",
    "notebook.\n"
   ]
  },
  {
   "cell_type": "code",
   "execution_count": null,
   "metadata": {
    "id": "KFZ38V5JIOBQ"
   },
   "outputs": [],
   "source": "# pip install ochre-nrel"
  },
  {
   "cell_type": "markdown",
   "metadata": {
    "id": "9M5CM6x6IOBR"
   },
   "source": [
    "### <a name=\"install\"></a>Local installation\n",
    "\n",
    "The latest release of OCHRE can be installed using `pip` from the command line with:\n",
    "\n",
    "```\n",
    "pip install ochre-nrel\n",
    "```\n",
    "\n",
    "Advanced users and developers can also install a specific branch from Github, for example:\n",
    "\n",
    "```\n",
    "pip install git+https://github.com/NREL/OCHRE@dev\n",
    "```\n",
    "\n",
    "Note that OCHRE currently requires Python version >=3.9 and <3.13."
   ]
  },
  {
   "cell_type": "markdown",
   "metadata": {
    "id": "7LnnPDGUIOBR"
   },
   "source": [
    "### <a name=\"inputs\"></a>Getting input files\n",
    "\n",
    "OCHRE `Dwelling` models typically require 3 inputs files:\n",
    "* An HPXML file with building and equipment properties (.xml)\n",
    "* An HPXML schedule file with occupant usage profiles (.csv)\n",
    "* A weather file (.epw, or .csv with NSRDB format)\n",
    "\n",
    "There are [multiple\n",
    "ways](https://ochre-nrel.readthedocs.io/en/latest/InputsAndArguments.html#getting-input-files)\n",
    "to generate or download OCHRE input files. An example below shows how to\n",
    "[download input files](#download).\n"
   ]
  },
  {
   "cell_type": "markdown",
   "metadata": {
    "id": "siFiSYnMIOBR"
   },
   "source": [
    "## <a name=\"dwelling\"></a>Simulating a dwelling\n",
    "\n",
    "OCHRE is most commonly used to model an entire residential dwelling (i.e., a\n",
    "house, apartment, or other housing unit) with many pieces of energy-consuming\n",
    "equipment. Using information about the building, equipment, occupants, and\n",
    "weather, it will generate a load profile and other relevant results. This\n",
    "tutorial shows examples on running a sample dwelling, adding additional\n",
    "equipment, and downloading a building model from ResStock Datasets.\n",
    "\n"
   ]
  },
  {
   "cell_type": "markdown",
   "metadata": {
    "id": "-_zHOnS3IOBR"
   },
   "source": [
    "### <a name=\"sample\"></a>Simulating a sample dwelling\n",
    "\n",
    "The following code will initialize a Dwelling using [sample\n",
    "files](https://github.com/NREL/OCHRE/tree/main/ochre/defaults/Input%20Files)\n",
    "from the [ResStock 2024.2 dataset](https://resstock.nrel.gov/datasets) and\n",
    "from the [EnergyPlus website](https://energyplus.net/weather) (for weather\n",
    "data). In addition to specifying input files, OCHRE requires a simulation\n",
    "start time, time resolution, and duration.\n",
    "\n",
    "\n"
   ]
  },
  {
   "cell_type": "code",
   "metadata": {
    "id": "s-mJUSGTIOBR",
    "ExecuteTime": {
     "end_time": "2025-10-14T14:34:35.721255Z",
     "start_time": "2025-10-14T14:34:34.127708Z"
    }
   },
   "source": [
    "import os\n",
    "import datetime as dt\n",
    "\n",
    "from ochre import Dwelling\n",
    "PROJECT_ROOT = os.path.abspath(os.path.join(os.getcwd(), \"..\"))\n",
    "default_input_path = os.path.join(PROJECT_ROOT, \"ochre\", \"defaults\")\n",
    "\n",
    "dwelling_args = {\n",
    "    # Timing parameters\n",
    "    \"start_time\": dt.datetime(2018, 1, 1, 0, 0),  # (year, month, day, hour, minute)\n",
    "    \"time_res\": dt.timedelta(minutes=10),         # time resolution of the simulation\n",
    "    \"duration\": dt.timedelta(days=3),             # duration of the simulation\n",
    "\n",
    "    # Input files\n",
    "    \"hpxml_file\": os.path.join(default_input_path, \"Input Files\", \"bldg0112631-up11.xml\"),\n",
    "    \"hpxml_schedule_file\": os.path.join(default_input_path, \"Input Files\", \"bldg0112631_schedule.csv\"),\n",
    "    \"weather_file\": os.path.join(default_input_path, \"Weather\", \"USA_CO_Denver.Intl.AP.725650_TMY3.epw\"),\n",
    "}\n",
    "\n",
    "# Create Dwelling model\n",
    "dwelling = Dwelling(**dwelling_args)"
   ],
   "outputs": [
    {
     "name": "stdout",
     "output_type": "stream",
     "text": [
      "2025-10-14 10:34:34.130015 - ochre at 2018-01-01 00:00:00: Initializing ochre (OCHRE v0.9.1)\n",
      "WARNING: Properties file weather station (G0800310) may be different from weather file used: /Users/levipremer/PycharmProjects/OCHRE_test/ochre/defaults/Weather/USA_CO_Denver.Intl.AP.725650_TMY3.epw\n",
      "WARNING: Cooling setpoint is within 1C of heating setpoint. Separating setpoints by at least 1C.\n",
      "2025-10-14 10:34:35.719884 - ochre at 2018-01-01 00:00:00: Dwelling Initialized\n"
     ]
    }
   ],
   "execution_count": 2
  },
  {
   "cell_type": "markdown",
   "metadata": {
    "id": "GbwSVPKRIOBR"
   },
   "source": [
    "The following code will simulate the dwelling. By default, it will return the\n",
    "following results and save them to files:\n",
    "\n",
    "- `df`: a Pandas DataFrame of time series results\n",
    "- `metrics`: a dictionary of energy metrics\n",
    "- `hourly`: a Pandas DataFrame of time series results with 1 hour resolution"
   ]
  },
  {
   "cell_type": "code",
   "metadata": {
    "id": "tptGXlUHIOBR",
    "ExecuteTime": {
     "end_time": "2025-10-14T14:34:38.951053Z",
     "start_time": "2025-10-14T14:34:38.709571Z"
    }
   },
   "source": [
    "df, metrics, hourly = dwelling.simulate()"
   ],
   "outputs": [
    {
     "name": "stdout",
     "output_type": "stream",
     "text": [
      "2025-10-14 10:34:38.710429 - ochre at 2018-01-01 00:00:00: Running Simulation for 3 days, 0:00:00\n",
      "2025-10-14 10:34:38.946917 - ochre at 2018-01-04 00:00:00: Simulation complete, time series results saved to: /Users/levipremer/PycharmProjects/OCHRE_test/ochre/defaults/Input Files/ochre.csv\n",
      "2025-10-14 10:34:38.948198 - ochre at 2018-01-04 00:00:00: Post-processing metrics saved to: /Users/levipremer/PycharmProjects/OCHRE_test/ochre/defaults/Input Files/ochre_metrics.csv\n",
      "2025-10-14 10:34:38.950031 - ochre at 2018-01-04 00:00:00: Hourly results saved to: /Users/levipremer/PycharmProjects/OCHRE_test/ochre/defaults/Input Files/ochre_hourly.csv\n"
     ]
    }
   ],
   "execution_count": 3
  },
  {
   "cell_type": "markdown",
   "metadata": {
    "id": "rWMmhnPjIOBR"
   },
   "source": [
    "The time series results include the total house power&mdash;including electricity\n",
    "real and reactive power and natural gas consumption&mdash;building zone\n",
    "temperatures, and unmet HVAC load. Many [additional\n",
    "results](https://ochre-nrel.readthedocs.io/en/latest/Outputs.html) can be\n",
    "saved by increasing the `verbosity` of the simulation (default is 3)."
   ]
  },
  {
   "metadata": {
    "ExecuteTime": {
     "end_time": "2025-10-14T14:35:14.716151Z",
     "start_time": "2025-10-14T14:35:14.711268Z"
    }
   },
   "cell_type": "code",
   "source": "df.head()",
   "outputs": [
    {
     "data": {
      "text/plain": [
       "                     Total Electric Power (kW)  Total Reactive Power (kVAR)  \\\n",
       "Time                                                                          \n",
       "2018-01-01 00:00:00                  11.414557                     7.368462   \n",
       "2018-01-01 00:10:00                   9.223750                     5.953340   \n",
       "2018-01-01 00:20:00                   9.155548                     5.909286   \n",
       "2018-01-01 00:30:00                   9.116016                     5.883751   \n",
       "2018-01-01 00:40:00                   9.092120                     5.868315   \n",
       "\n",
       "                     Total Gas Power (therms/hour)  \\\n",
       "Time                                                 \n",
       "2018-01-01 00:00:00                            0.0   \n",
       "2018-01-01 00:10:00                            0.0   \n",
       "2018-01-01 00:20:00                            0.0   \n",
       "2018-01-01 00:30:00                            0.0   \n",
       "2018-01-01 00:40:00                            0.0   \n",
       "\n",
       "                     Water Heating Electric Power (kW)  \\\n",
       "Time                                                     \n",
       "2018-01-01 00:00:00                              0.001   \n",
       "2018-01-01 00:10:00                              0.001   \n",
       "2018-01-01 00:20:00                              0.001   \n",
       "2018-01-01 00:30:00                              0.001   \n",
       "2018-01-01 00:40:00                              0.001   \n",
       "\n",
       "                     HVAC Cooling Electric Power (kW)  \\\n",
       "Time                                                    \n",
       "2018-01-01 00:00:00                              0.05   \n",
       "2018-01-01 00:10:00                              0.05   \n",
       "2018-01-01 00:20:00                              0.05   \n",
       "2018-01-01 00:30:00                              0.05   \n",
       "2018-01-01 00:40:00                              0.05   \n",
       "\n",
       "                     Lighting Electric Power (kW)  \\\n",
       "Time                                                \n",
       "2018-01-01 00:00:00                      0.016273   \n",
       "2018-01-01 00:10:00                      0.016273   \n",
       "2018-01-01 00:20:00                      0.016273   \n",
       "2018-01-01 00:30:00                      0.016273   \n",
       "2018-01-01 00:40:00                      0.016273   \n",
       "\n",
       "                     HVAC Heating Electric Power (kW)  \\\n",
       "Time                                                    \n",
       "2018-01-01 00:00:00                         11.116597   \n",
       "2018-01-01 00:10:00                          8.925790   \n",
       "2018-01-01 00:20:00                          8.857588   \n",
       "2018-01-01 00:30:00                          8.818057   \n",
       "2018-01-01 00:40:00                          8.794160   \n",
       "\n",
       "                     Other Electric Power (kW)  Hot Water Unmet Demand (kW)  \\\n",
       "Time                                                                          \n",
       "2018-01-01 00:00:00                   0.230687                          0.0   \n",
       "2018-01-01 00:10:00                   0.230687                          0.0   \n",
       "2018-01-01 00:20:00                   0.230687                          0.0   \n",
       "2018-01-01 00:30:00                   0.230687                          0.0   \n",
       "2018-01-01 00:40:00                   0.230687                          0.0   \n",
       "\n",
       "                     Hot Water Outlet Temperature (C)  \\\n",
       "Time                                                    \n",
       "2018-01-01 00:00:00                         51.111111   \n",
       "2018-01-01 00:10:00                         51.065152   \n",
       "2018-01-01 00:20:00                         51.019758   \n",
       "2018-01-01 00:30:00                         50.973620   \n",
       "2018-01-01 00:40:00                         50.927873   \n",
       "\n",
       "                     Temperature - Indoor (C)  Unmet HVAC Load (C)  \n",
       "Time                                                                \n",
       "2018-01-01 00:00:00                 20.293399                    0  \n",
       "2018-01-01 00:10:00                 20.649424                    0  \n",
       "2018-01-01 00:20:00                 20.649424                    0  \n",
       "2018-01-01 00:30:00                 20.649424                    0  \n",
       "2018-01-01 00:40:00                 20.649424                    0  "
      ],
      "text/html": [
       "<div>\n",
       "<style scoped>\n",
       "    .dataframe tbody tr th:only-of-type {\n",
       "        vertical-align: middle;\n",
       "    }\n",
       "\n",
       "    .dataframe tbody tr th {\n",
       "        vertical-align: top;\n",
       "    }\n",
       "\n",
       "    .dataframe thead th {\n",
       "        text-align: right;\n",
       "    }\n",
       "</style>\n",
       "<table border=\"1\" class=\"dataframe\">\n",
       "  <thead>\n",
       "    <tr style=\"text-align: right;\">\n",
       "      <th></th>\n",
       "      <th>Total Electric Power (kW)</th>\n",
       "      <th>Total Reactive Power (kVAR)</th>\n",
       "      <th>Total Gas Power (therms/hour)</th>\n",
       "      <th>Water Heating Electric Power (kW)</th>\n",
       "      <th>HVAC Cooling Electric Power (kW)</th>\n",
       "      <th>Lighting Electric Power (kW)</th>\n",
       "      <th>HVAC Heating Electric Power (kW)</th>\n",
       "      <th>Other Electric Power (kW)</th>\n",
       "      <th>Hot Water Unmet Demand (kW)</th>\n",
       "      <th>Hot Water Outlet Temperature (C)</th>\n",
       "      <th>Temperature - Indoor (C)</th>\n",
       "      <th>Unmet HVAC Load (C)</th>\n",
       "    </tr>\n",
       "    <tr>\n",
       "      <th>Time</th>\n",
       "      <th></th>\n",
       "      <th></th>\n",
       "      <th></th>\n",
       "      <th></th>\n",
       "      <th></th>\n",
       "      <th></th>\n",
       "      <th></th>\n",
       "      <th></th>\n",
       "      <th></th>\n",
       "      <th></th>\n",
       "      <th></th>\n",
       "      <th></th>\n",
       "    </tr>\n",
       "  </thead>\n",
       "  <tbody>\n",
       "    <tr>\n",
       "      <th>2018-01-01 00:00:00</th>\n",
       "      <td>11.414557</td>\n",
       "      <td>7.368462</td>\n",
       "      <td>0.0</td>\n",
       "      <td>0.001</td>\n",
       "      <td>0.05</td>\n",
       "      <td>0.016273</td>\n",
       "      <td>11.116597</td>\n",
       "      <td>0.230687</td>\n",
       "      <td>0.0</td>\n",
       "      <td>51.111111</td>\n",
       "      <td>20.293399</td>\n",
       "      <td>0</td>\n",
       "    </tr>\n",
       "    <tr>\n",
       "      <th>2018-01-01 00:10:00</th>\n",
       "      <td>9.223750</td>\n",
       "      <td>5.953340</td>\n",
       "      <td>0.0</td>\n",
       "      <td>0.001</td>\n",
       "      <td>0.05</td>\n",
       "      <td>0.016273</td>\n",
       "      <td>8.925790</td>\n",
       "      <td>0.230687</td>\n",
       "      <td>0.0</td>\n",
       "      <td>51.065152</td>\n",
       "      <td>20.649424</td>\n",
       "      <td>0</td>\n",
       "    </tr>\n",
       "    <tr>\n",
       "      <th>2018-01-01 00:20:00</th>\n",
       "      <td>9.155548</td>\n",
       "      <td>5.909286</td>\n",
       "      <td>0.0</td>\n",
       "      <td>0.001</td>\n",
       "      <td>0.05</td>\n",
       "      <td>0.016273</td>\n",
       "      <td>8.857588</td>\n",
       "      <td>0.230687</td>\n",
       "      <td>0.0</td>\n",
       "      <td>51.019758</td>\n",
       "      <td>20.649424</td>\n",
       "      <td>0</td>\n",
       "    </tr>\n",
       "    <tr>\n",
       "      <th>2018-01-01 00:30:00</th>\n",
       "      <td>9.116016</td>\n",
       "      <td>5.883751</td>\n",
       "      <td>0.0</td>\n",
       "      <td>0.001</td>\n",
       "      <td>0.05</td>\n",
       "      <td>0.016273</td>\n",
       "      <td>8.818057</td>\n",
       "      <td>0.230687</td>\n",
       "      <td>0.0</td>\n",
       "      <td>50.973620</td>\n",
       "      <td>20.649424</td>\n",
       "      <td>0</td>\n",
       "    </tr>\n",
       "    <tr>\n",
       "      <th>2018-01-01 00:40:00</th>\n",
       "      <td>9.092120</td>\n",
       "      <td>5.868315</td>\n",
       "      <td>0.0</td>\n",
       "      <td>0.001</td>\n",
       "      <td>0.05</td>\n",
       "      <td>0.016273</td>\n",
       "      <td>8.794160</td>\n",
       "      <td>0.230687</td>\n",
       "      <td>0.0</td>\n",
       "      <td>50.927873</td>\n",
       "      <td>20.649424</td>\n",
       "      <td>0</td>\n",
       "    </tr>\n",
       "  </tbody>\n",
       "</table>\n",
       "</div>"
      ]
     },
     "execution_count": 7,
     "metadata": {},
     "output_type": "execute_result"
    }
   ],
   "execution_count": 7
  },
  {
   "cell_type": "code",
   "metadata": {
    "id": "DUiltqJLIOBR",
    "ExecuteTime": {
     "end_time": "2025-10-14T14:35:02.780525Z",
     "start_time": "2025-10-14T14:35:02.775529Z"
    }
   },
   "source": "",
   "outputs": [
    {
     "name": "stdout",
     "output_type": "stream",
     "text": [
      "                     Total Electric Power (kW)  Total Reactive Power (kVAR)  \\\n",
      "Time                                                                          \n",
      "2018-01-01 00:00:00                  11.414557                     7.368462   \n",
      "2018-01-01 00:10:00                   9.223750                     5.953340   \n",
      "2018-01-01 00:20:00                   9.155548                     5.909286   \n",
      "2018-01-01 00:30:00                   9.116016                     5.883751   \n",
      "2018-01-01 00:40:00                   9.092120                     5.868315   \n",
      "\n",
      "                     Total Gas Power (therms/hour)  \\\n",
      "Time                                                 \n",
      "2018-01-01 00:00:00                            0.0   \n",
      "2018-01-01 00:10:00                            0.0   \n",
      "2018-01-01 00:20:00                            0.0   \n",
      "2018-01-01 00:30:00                            0.0   \n",
      "2018-01-01 00:40:00                            0.0   \n",
      "\n",
      "                     Water Heating Electric Power (kW)  \\\n",
      "Time                                                     \n",
      "2018-01-01 00:00:00                              0.001   \n",
      "2018-01-01 00:10:00                              0.001   \n",
      "2018-01-01 00:20:00                              0.001   \n",
      "2018-01-01 00:30:00                              0.001   \n",
      "2018-01-01 00:40:00                              0.001   \n",
      "\n",
      "                     HVAC Cooling Electric Power (kW)  \\\n",
      "Time                                                    \n",
      "2018-01-01 00:00:00                              0.05   \n",
      "2018-01-01 00:10:00                              0.05   \n",
      "2018-01-01 00:20:00                              0.05   \n",
      "2018-01-01 00:30:00                              0.05   \n",
      "2018-01-01 00:40:00                              0.05   \n",
      "\n",
      "                     Lighting Electric Power (kW)  \\\n",
      "Time                                                \n",
      "2018-01-01 00:00:00                      0.016273   \n",
      "2018-01-01 00:10:00                      0.016273   \n",
      "2018-01-01 00:20:00                      0.016273   \n",
      "2018-01-01 00:30:00                      0.016273   \n",
      "2018-01-01 00:40:00                      0.016273   \n",
      "\n",
      "                     HVAC Heating Electric Power (kW)  \\\n",
      "Time                                                    \n",
      "2018-01-01 00:00:00                         11.116597   \n",
      "2018-01-01 00:10:00                          8.925790   \n",
      "2018-01-01 00:20:00                          8.857588   \n",
      "2018-01-01 00:30:00                          8.818057   \n",
      "2018-01-01 00:40:00                          8.794160   \n",
      "\n",
      "                     Other Electric Power (kW)  Hot Water Unmet Demand (kW)  \\\n",
      "Time                                                                          \n",
      "2018-01-01 00:00:00                   0.230687                          0.0   \n",
      "2018-01-01 00:10:00                   0.230687                          0.0   \n",
      "2018-01-01 00:20:00                   0.230687                          0.0   \n",
      "2018-01-01 00:30:00                   0.230687                          0.0   \n",
      "2018-01-01 00:40:00                   0.230687                          0.0   \n",
      "\n",
      "                     Hot Water Outlet Temperature (C)  \\\n",
      "Time                                                    \n",
      "2018-01-01 00:00:00                         51.111111   \n",
      "2018-01-01 00:10:00                         51.065152   \n",
      "2018-01-01 00:20:00                         51.019758   \n",
      "2018-01-01 00:30:00                         50.973620   \n",
      "2018-01-01 00:40:00                         50.927873   \n",
      "\n",
      "                     Temperature - Indoor (C)  Unmet HVAC Load (C)  \n",
      "Time                                                                \n",
      "2018-01-01 00:00:00                 20.293399                    0  \n",
      "2018-01-01 00:10:00                 20.649424                    0  \n",
      "2018-01-01 00:20:00                 20.649424                    0  \n",
      "2018-01-01 00:30:00                 20.649424                    0  \n",
      "2018-01-01 00:40:00                 20.649424                    0  \n"
     ]
    }
   ],
   "execution_count": 6
  },
  {
   "cell_type": "markdown",
   "metadata": {
    "id": "pTHrLfIoIOBR"
   },
   "source": [
    "Metrics include the total house electricity and natural gas energy consumed,\n",
    "peak electric power, average zone temperatures, and total unmet HVAC load. Many [additional\n",
    "metrics](https://ochre-nrel.readthedocs.io/en/latest/Outputs.html#all-metrics) can be\n",
    "saved by increasing the `metrics_verbosity` of the simulation (default is 3).\n"
   ]
  },
  {
   "cell_type": "code",
   "execution_count": null,
   "metadata": {
    "id": "ld83TGvxIOBS"
   },
   "outputs": [],
   "source": [
    "metrics"
   ]
  },
  {
   "cell_type": "markdown",
   "metadata": {
    "id": "9YtaHDmDIOBS"
   },
   "source": [
    "The `Analysis` module has useful data analysis functions for OCHRE output\n",
    "data. The following code will recalculate the metrics\n",
    "from the previous run:\n"
   ]
  },
  {
   "cell_type": "code",
   "execution_count": null,
   "metadata": {
    "id": "p2UrYY8ZIOBS"
   },
   "outputs": [],
   "source": [
    "from ochre import Analysis\n",
    "\n",
    "# calculate metrics from the time series results\n",
    "metrics2 = Analysis.calculate_metrics(df)\n"
   ]
  },
  {
   "cell_type": "markdown",
   "metadata": {
    "id": "tx47zuJJIOBS"
   },
   "source": [
    "The `CreateFigures` module has useful visualization functions for OCHRE output\n",
    "data. The following code will create a stacked plot of house power by end use:\n",
    "\n"
   ]
  },
  {
   "cell_type": "code",
   "execution_count": null,
   "metadata": {
    "id": "0uvzs3t4IOBS"
   },
   "outputs": [],
   "source": [
    "%matplotlib inline\n",
    "\n",
    "from ochre import CreateFigures\n",
    "\n",
    "# Plot results\n",
    "fig = CreateFigures.plot_power_stack(df)"
   ]
  },
  {
   "cell_type": "markdown",
   "metadata": {
    "id": "kSQ2s435IOBS"
   },
   "source": [
    "The following code will plot the average daily load profile:"
   ]
  },
  {
   "cell_type": "code",
   "execution_count": null,
   "metadata": {
    "id": "lN9PrkpfIOBS"
   },
   "outputs": [],
   "source": [
    "fig = CreateFigures.plot_daily_profile(df, 'Total Electric Power (kW)', plot_max=False, plot_min=False)"
   ]
  },
  {
   "cell_type": "markdown",
   "metadata": {
    "id": "tqBeBBjBIOBS"
   },
   "source": [
    "### <a name=\"add-equipment\"></a>Adding equipment to a dwelling\n",
    "\n",
    "Many [additional\n",
    "inputs](https://ochre-nrel.readthedocs.io/en/latest/InputsAndArguments.html#dwelling-arguments)\n",
    "can be specified when initializing a dwelling model. A common use case is to\n",
    "add or modify equipment that are not specified in the HPXML input file. In\n",
    "particular, EV, solar PV, and battery equipment are not read from the HPXML\n",
    "file and must be specified during initialization.\n",
    "\n",
    "The following code will initialize the same Dwelling and add an EV and solar\n",
    "PV. For an example with more details, see\n",
    "[run_dwelling.py](https://github.com/NREL/OCHRE/tree/main/bin/run_dwelling.py).\n"
   ]
  },
  {
   "cell_type": "code",
   "execution_count": null,
   "metadata": {
    "id": "_gSp-E0IIOBS"
   },
   "outputs": [],
   "source": [
    "new_equipment = {\n",
    "    \"EV\": {\n",
    "        \"vehicle_type\": \"BEV\",\n",
    "        \"charging_level\": \"Level 1\",\n",
    "        \"range\": 200,\n",
    "    },\n",
    "    \"PV\": {\n",
    "        \"capacity\": 5,\n",
    "    },\n",
    "}\n",
    "new_equipment_args = {\n",
    "    **dwelling_args,  # copies arguments from the above example\n",
    "    \"Equipment\": new_equipment,\n",
    "}\n",
    "\n",
    "# Create Dwelling model\n",
    "dwelling_with_new_equipment = Dwelling(**new_equipment_args)\n"
   ]
  },
  {
   "cell_type": "code",
   "execution_count": null,
   "metadata": {
    "id": "6jXyT0L5IOBS"
   },
   "outputs": [],
   "source": [
    "df, metrics, hourly = dwelling_with_new_equipment.simulate()\n",
    "\n",
    "fig = CreateFigures.plot_power_stack(df)"
   ]
  },
  {
   "cell_type": "markdown",
   "metadata": {
    "id": "8RiocwwLIOBS"
   },
   "source": [
    "### <a name=\"download\"></a>Downloading input files\n",
    "\n",
    "The above examples use sample files that are included in the OCHRE package. A\n",
    "simple way to use other input files is to\n",
    "[download](https://ochre-nrel.readthedocs.io/en/latest/InputsAndArguments.html#getting-input-files)\n",
    "them from ResStock Datasets. ResStock metadata can be used to choose which\n",
    "model to download.\n",
    "\n",
    "The following code will download ResStock files (the same ones as the sample\n",
    "files) to your current working directory. On Google Colab, these files can be\n",
    "viewed by clicking on the folder icon on the left-hand side.\n"
   ]
  },
  {
   "cell_type": "code",
   "execution_count": null,
   "metadata": {
    "id": "FPAIX-jXIOBT"
   },
   "outputs": [],
   "source": [
    "this_path = os.getcwd()\n",
    "Analysis.download_resstock_model(\"bldg0112631\", \"up11\", this_path)\n"
   ]
  },
  {
   "cell_type": "markdown",
   "metadata": {
    "id": "8IGKE6hMIOBT"
   },
   "source": [
    "The simplest way to get weather files is through the [EnergyPlus\n",
    "website](https://energyplus.net/weather). You can also upload your own files\n",
    "to Colab. The following code will download an EnergyPlus weather file."
   ]
  },
  {
   "cell_type": "code",
   "execution_count": null,
   "metadata": {
    "id": "CvZx4WcLIOBT"
   },
   "outputs": [],
   "source": [
    "weather_file = \"USA_CO_Denver.Intl.AP.725650_TMY3.epw\"\n",
    "\n",
    "# Note: this may not work on all systems\n",
    "!wget https://energyplus-weather.s3.amazonaws.com/north_and_central_america_wmo_region_4/USA/CO/USA_CO_Denver.Intl.AP.725650_TMY3/USA_CO_Denver.Intl.AP.725650_TMY3.epw\n",
    "\n",
    "# alternate to copy weather file from OCHRE sample files\n",
    "# import shutil\n",
    "# shutil.copy(os.path.join(default_input_path, \"Weather\", weather_file), this_path)\n"
   ]
  },
  {
   "cell_type": "markdown",
   "metadata": {
    "id": "o5pL4fmrIOBT"
   },
   "source": [
    "### <a name=\"cli\"></a>Running through the command line\n",
    "\n",
    "OCHRE includes [command line and graphical user\n",
    "interfaces](https://ochre-nrel.readthedocs.io/en/latest/Introduction.html#command-line-interface)\n",
    "for simple use cases. By default, these tools will run a dwelling at hourly\n",
    "resolution for one year of simulation.\n",
    "\n",
    "After installing OCHRE, you can run ``ochre --help`` in the command line for\n",
    "more information on the available options.\n",
    "\n"
   ]
  },
  {
   "cell_type": "code",
   "execution_count": null,
   "metadata": {
    "id": "u-vOhMJaIOBT"
   },
   "outputs": [],
   "source": [
    "!ochre --help"
   ]
  },
  {
   "cell_type": "code",
   "execution_count": null,
   "metadata": {
    "id": "nxq8F3IUIOBT"
   },
   "outputs": [],
   "source": [
    "!ochre single --help"
   ]
  },
  {
   "cell_type": "markdown",
   "metadata": {
    "id": "dA5cZx1XIOBT"
   },
   "source": [
    "The following code will run OCHRE through the command line with the files that\n",
    "you just downloaded. We reduce the duration to 3 days to reduce the\n",
    "computation time."
   ]
  },
  {
   "cell_type": "code",
   "execution_count": null,
   "metadata": {
    "id": "Wbb0aEn3IOBT"
   },
   "outputs": [],
   "source": [
    "!ochre single $this_path --duration=3 --weather_file_or_path=$weather_file"
   ]
  },
  {
   "cell_type": "markdown",
   "metadata": {
    "id": "Oln2vb8LIOBT"
   },
   "source": [
    "Output files can be viewed directly (in Google Colab, see the folder icon on\n",
    "the left-hand side), or loaded using the following code."
   ]
  },
  {
   "cell_type": "code",
   "execution_count": null,
   "metadata": {
    "id": "7Nwcl1_-IOBT"
   },
   "outputs": [],
   "source": [
    "# Load results from previous run\n",
    "df, metrics, hourly = Analysis.load_ochre(this_path, \"ochre\")\n",
    "\n",
    "fig = CreateFigures.plot_power_stack(df)\n"
   ]
  },
  {
   "cell_type": "markdown",
   "metadata": {
    "id": "Du9_K5RRIOBU"
   },
   "source": [
    "## <a name=\"equipment\"></a>Simulating a single piece of equipment\n",
    "\n",
    "OCHRE can simulate a single piece of equipment, including an electric vehicle,\n",
    "water heater, solar PV system, or battery. Compared to simulating a full\n",
    "dwelling, fewer input files and arguments are required. However, most\n",
    "equipment require some [input\n",
    "arguments](https://ochre-nrel.readthedocs.io/en/latest/InputsAndArguments.html#equipment-specific-arguments)\n",
    "that often need to be specified manually.\n",
    "\n",
    "This tutorial shows examples to simulate an EV and a water heater. For more\n",
    "details and examples, see\n",
    "[run_equipment.py](https://github.com/NREL/OCHRE/blob/main/bin/run_equipment.py)."
   ]
  },
  {
   "cell_type": "markdown",
   "metadata": {
    "id": "T7E-OQ5UIOBU"
   },
   "source": [
    "### <a name=\"ev\"></a>Simulating an electric vehicle\n",
    "\n",
    "The following code will initialize and then simulate an [electric\n",
    "vehicle](https://ochre-nrel.readthedocs.io/en/latest/ModelingApproach.html#electric-vehicles).\n",
    "The vehicle type (i.e., drive train), charging level, and range must be\n",
    "specified. More details on EV inputs can be found in the\n",
    "[documentation](https://ochre-nrel.readthedocs.io/en/latest/InputsAndArguments.html#electric-vehicle)."
   ]
  },
  {
   "cell_type": "code",
   "execution_count": null,
   "metadata": {
    "id": "jBJmUox4IOBU"
   },
   "outputs": [],
   "source": [
    "from ochre import ElectricVehicle\n",
    "\n",
    "equipment_args = {\n",
    "    \"start_time\": dt.datetime(2018, 1, 1, 0, 0),  # year, month, day, hour, minute\n",
    "    \"time_res\": dt.timedelta(minutes=15),\n",
    "    \"duration\": dt.timedelta(days=10),\n",
    "    \"save_results\": False,  # if True, must specify output_path\n",
    "    # \"output_path\": os.getcwd(),\n",
    "    \"seed\": 1,  # setting random seed to create consistent charging events\n",
    "\n",
    "    # Equipment-specific parameters\n",
    "    \"vehicle_type\": \"BEV\",\n",
    "    \"charging_level\": \"Level 1\",\n",
    "    \"range\": 200,\n",
    "}\n",
    "\n",
    "# Initialize equipment\n",
    "equipment = ElectricVehicle(**equipment_args)"
   ]
  },
  {
   "cell_type": "code",
   "execution_count": null,
   "metadata": {
    "id": "EyCDljOIIOBU"
   },
   "outputs": [],
   "source": [
    "# Simulate equipment\n",
    "df = equipment.simulate()\n",
    "\n",
    "df.head()\n"
   ]
  },
  {
   "cell_type": "code",
   "execution_count": null,
   "metadata": {
    "id": "GOtvyyyAIOBU"
   },
   "outputs": [],
   "source": [
    "fig = CreateFigures.plot_daily_profile(df, \"EV Electric Power (kW)\", plot_max=False, plot_min=False)\n"
   ]
  },
  {
   "cell_type": "code",
   "execution_count": null,
   "metadata": {
    "id": "iXGs-R1uIOBU"
   },
   "outputs": [],
   "source": [
    "fig = CreateFigures.plot_time_series_detailed((df[\"EV SOC (-)\"],))\n"
   ]
  },
  {
   "cell_type": "markdown",
   "metadata": {
    "id": "43bxPnD5IOBU"
   },
   "source": [
    "### <a name=\"water_heater\"></a>Simulating a water heater\n",
    "\n",
    "The following code will initialize and then simulate a [water\n",
    "heater](https://ochre-nrel.readthedocs.io/en/latest/ModelingApproach.html#water-heating).\n",
    "Multiple inputs are required, including the setpoint temperature, tank size,\n",
    "and heat transfer coefficient. A time series schedule is required that\n",
    "includes a water draw profile, the air temperature surrounding the water\n",
    "heater (\"Zone Temperature\"), and the water mains temperature. More details on\n",
    "water heater inputs can be found in the\n",
    "[documentation](https://ochre-nrel.readthedocs.io/en/latest/InputsAndArguments.html#water-heating)."
   ]
  },
  {
   "cell_type": "code",
   "execution_count": null,
   "metadata": {
    "id": "-EDLHysoIOBU"
   },
   "outputs": [],
   "source": [
    "import numpy as np\n",
    "import pandas as pd\n",
    "from ochre import ElectricResistanceWaterHeater\n",
    "\n",
    "# Create water draw schedule\n",
    "start_time = dt.datetime(2018, 1, 1, 0, 0)  # year, month, day, hour, minute\n",
    "time_res = dt.timedelta(minutes=1)\n",
    "duration = dt.timedelta(days=10)\n",
    "times = pd.date_range(\n",
    "    start_time,\n",
    "    start_time + duration,\n",
    "    freq=time_res,\n",
    "    inclusive=\"left\",\n",
    ")\n",
    "water_draw_magnitude = 12  # L/min\n",
    "withdraw_rate = np.random.choice([0, water_draw_magnitude], p=[0.99, 0.01], size=len(times))\n",
    "schedule = pd.DataFrame(\n",
    "    {\n",
    "        \"Water Heating (L/min)\": withdraw_rate,\n",
    "        \"Zone Temperature (C)\": 20,\n",
    "        \"Mains Temperature (C)\": 7,\n",
    "    },\n",
    "    index=times,\n",
    ")\n",
    "\n",
    "equipment_args = {\n",
    "    \"start_time\": start_time,  # year, month, day, hour, minute\n",
    "    \"time_res\": time_res,\n",
    "    \"duration\": duration,\n",
    "    \"save_results\": False,  # if True, must specify output_path\n",
    "    # \"output_path\": os.getcwd(),\n",
    "    # Equipment-specific parameters\n",
    "    \"Setpoint Temperature (C)\": 51,\n",
    "    \"Tank Volume (L)\": 250,\n",
    "    \"Tank Height (m)\": 1.22,\n",
    "    \"UA (W/K)\": 2.17,\n",
    "    \"schedule\": schedule,\n",
    "}\n",
    "\n",
    "# Initialize equipment\n",
    "wh = ElectricResistanceWaterHeater(**equipment_args)\n"
   ]
  },
  {
   "cell_type": "code",
   "execution_count": null,
   "metadata": {
    "id": "dL_zMEtGIOBV"
   },
   "outputs": [],
   "source": [
    "# Run simulation\n",
    "df = wh.simulate()\n",
    "\n",
    "# Show results\n",
    "df.head()\n"
   ]
  },
  {
   "cell_type": "code",
   "execution_count": null,
   "metadata": {
    "id": "RQAmIJl4IOBV"
   },
   "outputs": [],
   "source": [
    "fig = CreateFigures.plot_daily_profile(\n",
    "    df, \"Water Heating Electric Power (kW)\", plot_max=False, plot_min=False\n",
    ")"
   ]
  },
  {
   "cell_type": "code",
   "execution_count": null,
   "metadata": {
    "id": "0rXQWkYrIOBV"
   },
   "outputs": [],
   "source": [
    "fig = CreateFigures.plot_time_series_detailed((df[\"Hot Water Outlet Temperature (C)\"],))"
   ]
  },
  {
   "cell_type": "markdown",
   "metadata": {
    "id": "o-JpUHVzIOBV"
   },
   "source": [
    "## <a name=\"fleet\"></a>Simulating a fleet\n",
    "\n",
    "OCHRE can simulate multiple homes or pieces of equipment at once to model a\n",
    "aggregation or a fleet of devices. The following examples show how to model a\n",
    "fleet of EVs or a set of homes sequentially. Simulations can be run\n",
    "sequentially or in parallel (without interactions between them) using the [command line\n",
    "interface](https://ochre-nrel.readthedocs.io/en/latest/Introduction.html#command-line-interface).\n",
    "See the [following section](#control) to run simulations with interactions\n",
    "through external controllers.\n",
    "\n",
    "For more details and examples, see\n",
    "[run_fleet.py](https://github.com/NREL/OCHRE/blob/main/bin/run_fleet.py)\n",
    "and\n",
    "[run_multiple.py](https://github.com/NREL/OCHRE/blob/main/bin/run_multiple.py)."
   ]
  },
  {
   "cell_type": "markdown",
   "metadata": {
    "id": "2kERNeDRIOBV"
   },
   "source": [
    "### <a name=\"ev-fleet\"></a>Simulating an EV fleet\n",
    "\n",
    "The following code will set up a fleet of EV models, run each one\n",
    "sequentially, and then plot the power of each EV."
   ]
  },
  {
   "cell_type": "code",
   "execution_count": null,
   "metadata": {
    "id": "XV4PeCsXIOBV"
   },
   "outputs": [],
   "source": [
    "def setup_ev(i) -> ElectricVehicle:\n",
    "    # randomly select vehicle type, range, and charging level\n",
    "    vehicle_type = np.random.choice([\"BEV\", \"PHEV\"])\n",
    "    charging_level = np.random.choice([\"Level 1\", \"Level 2\"])\n",
    "    if vehicle_type == \"BEV\":\n",
    "        range = round(np.random.uniform(100, 300))\n",
    "    else:\n",
    "        range = round(np.random.uniform(20, 70))\n",
    "\n",
    "    # Option to specify a file with EV charging events\n",
    "    # Defaults to older charging event data\n",
    "    # equipment_event_file = None\n",
    "    lvl = charging_level.lower().replace(\" \", \"_\")\n",
    "    equipment_event_file = os.path.join(default_input_path, \"EV\", f\"{vehicle_type}_{lvl}.csv\")\n",
    "\n",
    "    # Initialize equipment\n",
    "    return ElectricVehicle(\n",
    "        name=f\"EV_{i}\",\n",
    "        seed=i,  # used to randomize charging events. Not used for randomization above\n",
    "        vehicle_type=vehicle_type,\n",
    "        charging_level=charging_level,\n",
    "        range=range,\n",
    "        start_time=dt.datetime(2018, 1, 1, 0, 0),  # year, month, day, hour, minute\n",
    "        time_res=dt.timedelta(minutes=15),\n",
    "        duration=dt.timedelta(days=5),\n",
    "        save_results=False,  # if True, must specify output_path\n",
    "        # output_path=os.getcwd(),\n",
    "        equipment_event_file=equipment_event_file,\n",
    "    )\n",
    "\n",
    "# Create fleet\n",
    "n = 4\n",
    "fleet = [setup_ev(i + 1) for i in range(n)]\n"
   ]
  },
  {
   "cell_type": "code",
   "execution_count": null,
   "metadata": {
    "id": "FwtRjeyEIOBV"
   },
   "outputs": [],
   "source": [
    "def run_ev(ev: ElectricVehicle):\n",
    "    df = ev.simulate()\n",
    "    out = df[\"EV Electric Power (kW)\"]\n",
    "    out.name = ev.name\n",
    "    return out\n",
    "\n",
    "# Simulate fleet\n",
    "results = []\n",
    "for ev in fleet:\n",
    "    results.append(run_ev(ev))\n",
    "\n",
    "# combine load profiles\n",
    "df = pd.concat(results, axis=1)\n",
    "\n",
    "df.head()\n"
   ]
  },
  {
   "cell_type": "code",
   "execution_count": null,
   "metadata": {
    "id": "bVdH5-wOIOBV"
   },
   "outputs": [],
   "source": [
    "df.plot()\n"
   ]
  },
  {
   "cell_type": "markdown",
   "metadata": {
    "id": "DJxEpx45IOBV"
   },
   "source": [
    "### <a name=\"house-fleet\"></a>Simulating multiple houses\n",
    "\n",
    "The following code will download two building models from the ResStock 2024.2\n",
    "dataset and sequentially initialize and simulate them. In Google Colab, you\n",
    "can view the input and output files by clicking the folder icon on the\n",
    "left-hand side."
   ]
  },
  {
   "cell_type": "code",
   "execution_count": null,
   "metadata": {
    "id": "EJid3Jt0IOBV"
   },
   "outputs": [],
   "source": [
    "import shutil\n",
    "\n",
    "from ochre import Analysis\n",
    "\n",
    "default_weather_file_name = \"USA_CO_Denver.Intl.AP.725650_TMY3.epw\"\n",
    "default_weather_file = os.path.join(default_input_path, \"Weather\", default_weather_file_name)\n",
    "\n",
    "main_path = os.getcwd()\n",
    "\n",
    "# Download ResStock files to current directory\n",
    "buildings = [\"bldg0112631\"]\n",
    "upgrades = [\"up00\", \"up11\"]\n",
    "input_paths = []\n",
    "for upgrade in upgrades:\n",
    "    for building in buildings:\n",
    "        input_path = os.path.join(main_path, building, upgrade)\n",
    "        os.makedirs(input_path, exist_ok=True)\n",
    "        Analysis.download_resstock_model(building, upgrade, input_path, overwrite=False)\n",
    "        shutil.copy(default_weather_file, input_path)\n",
    "        input_paths.append(input_path)"
   ]
  },
  {
   "cell_type": "code",
   "execution_count": null,
   "metadata": {
    "id": "rj7Utq3fIOBV"
   },
   "outputs": [],
   "source": [
    "from ochre.cli import create_dwelling\n",
    "\n",
    "# Run Dwelling models sequentially\n",
    "for input_path in input_paths:\n",
    "    dwelling = create_dwelling(\n",
    "        input_path, duration=7, weather_file_or_path=default_weather_file_name\n",
    "    )\n",
    "    dwelling.simulate()"
   ]
  },
  {
   "cell_type": "markdown",
   "metadata": {
    "id": "l6zc9W4DIOBV"
   },
   "source": [
    "## <a name=\"control\"></a>Simulating with external controllers\n",
    "\n",
    "OCHRE is designed to integrate with external controllers and other modeling\n",
    "tools. External controllers can adjust the power consumption of any OCHRE\n",
    "equipment using multiple [control\n",
    "methods](https://ochre-nrel.readthedocs.io/en/latest/ControllerIntegration.html).\n",
    "The following examples show device-level control methods for HVAC systems,\n",
    "EVs, and water heaters.\n",
    "\n",
    "For more details and examples, see\n",
    "[run_external_control.py](https://github.com/NREL/OCHRE/blob/main/bin/run_external_control.py).\n",
    "There is also example code to run OCHRE in\n",
    "[co-simulation](https://github.com/NREL/OCHRE/blob/main/bin/run_cosimulation.py)\n",
    "using HELICS."
   ]
  },
  {
   "cell_type": "markdown",
   "metadata": {
    "id": "NSaAi4zeIOBV"
   },
   "source": [
    "### <a name=\"hvac-control\"></a>HVAC setpoint control\n",
    "\n",
    "This control will reduce the heating setpoint by 1C from 5-9PM each day. It\n",
    "adjusts the setpoint schedule before beginning the simulation; however, this\n",
    "control can be achieved by [setting the\n",
    "setpoint](https://ochre-nrel.readthedocs.io/en/latest/ControllerIntegration.html#hvac-heating-or-hvac-cooling)\n",
    "at every time step as well. We use the same house model as the first example."
   ]
  },
  {
   "cell_type": "code",
   "execution_count": null,
   "metadata": {
    "id": "49AxB4y2IOBV"
   },
   "outputs": [],
   "source": [
    "# Update the simulation args to run at a finer time resolution\n",
    "dwelling_args.update(\n",
    "    {\n",
    "        \"time_res\": dt.timedelta(minutes=1),  # time resolution of the simulation\n",
    "        \"duration\": dt.timedelta(days=1),  # duration of the simulation\n",
    "        \"verbosity\": 6,  # increases the number of results for plotting (default=3)\n",
    "    }\n",
    ")\n",
    "\n",
    "# Initialize the Dwelling\n",
    "dwelling = Dwelling(**dwelling_args)\n",
    "\n",
    "# Get HVAC heater schedule\n",
    "heater = dwelling.get_equipment_by_end_use(\"HVAC Heating\")\n",
    "schedule = heater.schedule\n",
    "\n",
    "# Reduce heating setpoint by 1C from 5-9PM (setpoint is already in the schedule)\n",
    "peak_times = (schedule.index.hour >= 17) & (schedule.index.hour < 21)\n",
    "schedule.loc[peak_times, \"HVAC Heating Setpoint (C)\"] -= 1\n",
    "\n",
    "# Adjust the HVAC deadband temperature (not in the schedule yet)\n",
    "schedule[\"HVAC Heating Deadband (C)\"] = 1\n",
    "schedule.loc[peak_times, \"HVAC Heating Deadband (C)\"] = 2\n",
    "\n",
    "# Reset the schedule to implement the changes\n",
    "heater.reset_time()\n",
    "\n",
    "# Simulate\n",
    "df, _, _ = dwelling.simulate()\n"
   ]
  },
  {
   "cell_type": "code",
   "execution_count": null,
   "metadata": {
    "id": "sf9yMmpZIOBV"
   },
   "outputs": [],
   "source": [
    "cols_to_plot = [\n",
    "    \"HVAC Heating Setpoint (C)\",\n",
    "    \"Temperature - Indoor (C)\",\n",
    "    \"Temperature - Outdoor (C)\",\n",
    "    \"Unmet HVAC Load (C)\",\n",
    "    \"HVAC Heating Electric Power (kW)\",\n",
    "]\n",
    "df.loc[:, cols_to_plot].plot()\n"
   ]
  },
  {
   "cell_type": "markdown",
   "metadata": {
    "id": "qr-ZjGskIOBV"
   },
   "source": [
    "### <a name=\"ev-control\"></a>EV managed charging\n",
    "\n",
    "This control implements \"perfect\" managed charging for an EV. At each time\n",
    "step, it calculates the average power required to achieve 100% SOC by the end\n",
    "of the parking session, and sets the charging power to that value. Other [EV\n",
    "control\n",
    "options](https://ochre-nrel.readthedocs.io/en/latest/ControllerIntegration.html#electric-vehicle-ev)\n",
    "are described in the documentation."
   ]
  },
  {
   "cell_type": "code",
   "execution_count": null,
   "metadata": {
    "id": "PtOKq8f4IOBV"
   },
   "outputs": [],
   "source": [
    "from ochre.Equipment.EV import EV_EFFICIENCY\n",
    "\n",
    "equipment_args = {\n",
    "    \"start_time\": dt.datetime(2018, 1, 1, 0, 0),  # year, month, day, hour, minute\n",
    "    \"time_res\": dt.timedelta(minutes=60),\n",
    "    \"duration\": dt.timedelta(days=20),\n",
    "    \"verbosity\": 3,\n",
    "    \"save_results\": False,  # if True, must specify output_path\n",
    "    # \"output_path\": os.getcwd(),\n",
    "    # Equipment parameters\n",
    "    \"vehicle_type\": \"BEV\",\n",
    "    \"charging_level\": \"Level 1\",\n",
    "    \"range\": 150,\n",
    "}\n",
    "\n",
    "# Initialize\n",
    "ev = ElectricVehicle(**equipment_args)\n",
    "\n",
    "# slow charge from start to end of parking\n",
    "for t in ev.sim_times:\n",
    "    remaining_hours = (ev.event_end - t).total_seconds() / 3600\n",
    "    remaining_kwh = (1 - ev.soc) * ev.capacity\n",
    "    if t >= ev.event_start and remaining_hours:\n",
    "        power = remaining_kwh / remaining_hours / EV_EFFICIENCY\n",
    "        ev.update({\"Max Power\": power})\n",
    "    else:\n",
    "        ev.update()\n",
    "\n",
    "df = ev.finalize()\n"
   ]
  },
  {
   "cell_type": "code",
   "execution_count": null,
   "metadata": {
    "id": "-JxZFZ4HIOBV"
   },
   "outputs": [],
   "source": [
    "fig = CreateFigures.plot_daily_profile(df, \"EV Electric Power (kW)\", plot_max=False, plot_min=False)\n"
   ]
  },
  {
   "cell_type": "code",
   "execution_count": null,
   "metadata": {
    "id": "WZ6kTT1TIOBV"
   },
   "outputs": [],
   "source": [
    "df.loc[:, [\"EV Electric Power (kW)\", \"EV Unmet Load (kWh)\", \"EV SOC (-)\"]].plot()\n"
   ]
  },
  {
   "cell_type": "markdown",
   "metadata": {
    "id": "Ow2ct9xwIOBV"
   },
   "source": [
    "### <a name=\"wh-control\"></a>HPWH CTA-2045 control\n",
    "\n",
    "This control implements the CTA-2045 Load Add and Load Shed control for a heat\n",
    "pump water heater. The control will adjust the setpoint and deadband of the\n",
    "water heater thermostat to increase load for 1 hour (at 7AM and 4PM) and then\n",
    "reduce load for 1 hour (at 8AM and 5PM). Other [water heater control\n",
    "options](https://ochre-nrel.readthedocs.io/en/latest/ControllerIntegration.html#water-heating)\n",
    "are described in the documentation."
   ]
  },
  {
   "cell_type": "code",
   "execution_count": null,
   "metadata": {
    "id": "EX87eF2LIOBW"
   },
   "outputs": [],
   "source": [
    "from ochre import HeatPumpWaterHeater\n",
    "\n",
    "# Define equipment and simulation parameters\n",
    "setpoint_default = 51  # in C\n",
    "deadband_default = 5.56  # in C\n",
    "equipment_args = {\n",
    "    \"start_time\": dt.datetime(2018, 1, 1, 0, 0),  # year, month, day, hour, minute\n",
    "    \"time_res\": dt.timedelta(minutes=1),\n",
    "    \"duration\": dt.timedelta(days=1),\n",
    "    \"verbosity\": 7,  # required to get setpoint and deadband in results\n",
    "    \"save_results\": False,  # if True, must specify output_path\n",
    "    # \"output_path\": os.getcwd(),        # Equipment parameters\n",
    "    \"Setpoint Temperature (C)\": setpoint_default,\n",
    "    \"Tank Volume (L)\": 250,\n",
    "    \"Tank Height (m)\": 1.22,\n",
    "    \"UA (W/K)\": 2.17,\n",
    "    \"HPWH COP (-)\": 4.5,\n",
    "}\n",
    "\n",
    "# Create water draw schedule\n",
    "times = pd.date_range(\n",
    "    equipment_args[\"start_time\"],\n",
    "    equipment_args[\"start_time\"] + equipment_args[\"duration\"],\n",
    "    freq=equipment_args[\"time_res\"],\n",
    "    inclusive=\"left\",\n",
    ")\n",
    "water_draw_magnitude = 12  # L/min\n",
    "withdraw_rate = np.random.choice([0, water_draw_magnitude], p=[0.99, 0.01], size=len(times))\n",
    "schedule = pd.DataFrame(\n",
    "    {\n",
    "        \"Water Heating (L/min)\": withdraw_rate,\n",
    "        \"Water Heating Setpoint (C)\": setpoint_default,  # Setting so that it can reset\n",
    "        \"Water Heating Deadband (C)\": deadband_default,  # Setting so that it can reset\n",
    "        \"Zone Temperature (C)\": 20,\n",
    "        \"Zone Wet Bulb Temperature (C)\": 15,  # Required for HPWH\n",
    "        \"Mains Temperature (C)\": 7,\n",
    "    },\n",
    "    index=times,\n",
    ")\n",
    "\n",
    "# Initialize equipment\n",
    "hpwh = HeatPumpWaterHeater(schedule=schedule, **equipment_args)\n",
    "\n",
    "# Simulate\n",
    "control_signal = {}\n",
    "for t in hpwh.sim_times:\n",
    "    # Change setpoint based on hour of day\n",
    "    if t.hour in [7, 16]:\n",
    "        # CTA-2045 Basic Load Add command\n",
    "        control_signal = {\"Deadband\": deadband_default - 2.78}\n",
    "    elif t.hour in [8, 17]:\n",
    "        # CTA-2045 Load Shed command\n",
    "        control_signal = {\n",
    "            \"Setpoint\": setpoint_default - 5.56,\n",
    "            \"Deadband\": deadband_default - 2.78,\n",
    "        }\n",
    "    else:\n",
    "        control_signal = {}\n",
    "\n",
    "    # Run with controls\n",
    "    _ = hpwh.update(control_signal=control_signal)\n",
    "\n",
    "df = hpwh.finalize()\n",
    "\n",
    "df.head()\n"
   ]
  },
  {
   "cell_type": "code",
   "execution_count": null,
   "metadata": {
    "id": "f-iTslSBIOBW"
   },
   "outputs": [],
   "source": [
    "cols_to_plot = [\n",
    "    \"Hot Water Outlet Temperature (C)\",\n",
    "    \"Hot Water Average Temperature (C)\",\n",
    "    \"Water Heating Deadband Upper Limit (C)\",\n",
    "    \"Water Heating Deadband Lower Limit (C)\",\n",
    "    \"Water Heating Electric Power (kW)\",\n",
    "    \"Hot Water Unmet Demand (kW)\",\n",
    "    \"Hot Water Delivered (L/min)\",\n",
    "]\n",
    "df.loc[:, cols_to_plot].plot()\n"
   ]
  },
  {
   "cell_type": "markdown",
   "metadata": {
    "id": "ChJaRqbAIOBW"
   },
   "source": []
  }
 ],
 "metadata": {
  "kernelspec": {
   "display_name": ".venv",
   "language": "python",
   "name": "python3"
  },
  "language_info": {
   "codemirror_mode": {
    "name": "ipython",
    "version": 3
   },
   "file_extension": ".py",
   "mimetype": "text/x-python",
   "name": "python",
   "nbconvert_exporter": "python",
   "pygments_lexer": "ipython3",
   "version": "3.10.4"
  },
  "orig_nbformat": 4,
  "colab": {
   "provenance": []
  }
 },
 "nbformat": 4,
 "nbformat_minor": 0
}
